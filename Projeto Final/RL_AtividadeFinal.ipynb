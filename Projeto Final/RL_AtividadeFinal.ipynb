{
 "cells": [
  {
   "cell_type": "markdown",
   "metadata": {},
   "source": [
    "## Avaliação Total da Disciplina\n",
    "### Solução para empresa de logística que opera uma frota de robôs de entrega autônomos"
   ]
  },
  {
   "cell_type": "markdown",
   "metadata": {},
   "source": [
    "* Contexto:\n",
    "  * Imagine que você está trabalhando em uma empresa de logística que opera uma frota de robôs de entrega autônomos. Sua tarefa é implementar um algoritmo de aprendizado por reforço para otimizar a entrega de pacotes em um ambiente simulado. Os robôs têm a capacidade de se mover em um ambiente em grade 2D e devem aprender a tomar decisões sobre para onde se mover para entregar pacotes de forma eficiente.\n",
    "\n",
    "* Objetivo:\n",
    "  * O objetivo do desafio é implementar um agente de aprendizado por reforço usando ténicas como por exemplo Q-Table, equação de Bellman, ε-greedy e etc, para maximizar o retorno cumulativo ao entregar pacotes no menor tempo possível, considerando um \"living penalty\" para incentivar o agente a ser eficiente.\n",
    "\n",
    "\n",
    "* Critérios de Avaliação:\n",
    "  1.\tImplementação correta do ambiente, MDP e Q-Table.\n",
    "  2.\tImplementação do algoritmo de aprendizado por reforço (Q-Learning ou similar).\n",
    "  3.\tIntrodução e configuração adequada do \"living penalty\".\n",
    "  4.\tEficiência do agente na entrega de pacotes.\n",
    "  5.\tDocumentação clara e código bem comentado em Python."
   ]
  },
  {
   "cell_type": "markdown",
   "metadata": {},
   "source": [
    "## 1 - Modelagem do ambiente\n",
    "\n",
    "  * Crie um ambiente 2D simulado, onde o agente pode se mover em um grid. Considere que o ambiente tem obstáculos e pontos de entrega de pacotes."
   ]
  },
  {
   "cell_type": "code",
   "execution_count": 1,
   "metadata": {},
   "outputs": [],
   "source": [
    "# @title Importando libs\n",
    "import random\n",
    "import numpy as np\n",
    "import matplotlib.pyplot as plt"
   ]
  },
  {
   "cell_type": "code",
   "execution_count": 2,
   "metadata": {},
   "outputs": [],
   "source": [
    "# Criando um ambiente simulado\n",
    "class Environment:\n",
    "    def __init__(self, grid_size, obstacles, delivery_points):\n",
    "        self.grid_size = grid_size\n",
    "        self.grid = np.zeros(grid_size, dtype=int)\n",
    "        self.obstacles = obstacles\n",
    "        self.delivery_points = delivery_points\n",
    "        self.agent_position = (0, 0)  # A posição inicial do agente\n",
    "\n",
    "    def reset(self):\n",
    "        self.grid = np.zeros(self.grid_size, dtype=int)\n",
    "        self.agent_position = (0, 0)\n",
    "\n",
    "        for obs in self.obstacles:\n",
    "            self.grid[obs] = -1  # Marcando obstáculos no grid\n",
    "\n",
    "        for delivery_point in self.delivery_points:\n",
    "            self.grid[delivery_point] = 1  # Marcando pontos de entrega no grid\n",
    "\n",
    "    def is_valid_move(self, position):\n",
    "        x, y = position\n",
    "        return 0 <= x < self.grid_size[0] and 0 <= y < self.grid_size[1] and self.grid[position] != -1\n",
    "\n",
    "    def take_action(self, action):\n",
    "        if action == 'up':\n",
    "            new_position = (self.agent_position[0] - 1, self.agent_position[1])\n",
    "        elif action == 'down':\n",
    "            new_position = (self.agent_position[0] + 1, self.agent_position[1])\n",
    "        elif action == 'left':\n",
    "            new_position = (self.agent_position[0], self.agent_position[1] - 1)\n",
    "        elif action == 'right':\n",
    "            new_position = (self.agent_position[0], self.agent_position[1] + 1)\n",
    "        else:\n",
    "            raise ValueError(\"Ação inválida\")\n",
    "\n",
    "        if self.is_valid_move(new_position):\n",
    "            self.agent_position = new_position\n",
    "\n",
    "    def get_state(self):\n",
    "        return self.agent_position\n",
    "\n",
    "    def is_at_delivery_point(self):\n",
    "        return self.grid[self.agent_position] == 1\n",
    "\n",
    "    def get_reward(self):\n",
    "        if self.is_at_delivery_point():\n",
    "            return 10  # Recompensa positiva por entregar um pacote\n",
    "        else:\n",
    "            return -1  # Penalização (living penalty) por cada passo\n",
    "\n",
    "    def is_done(self):\n",
    "        return all([self.grid[position] == 0 for position in self.delivery_points])\n",
    "\n",
    "    def print_environment(self):\n",
    "        for i in range(self.grid_size[0]):\n",
    "            for j in range(self.grid_size[1]):\n",
    "                if (i, j) == self.agent_position:\n",
    "                    print(\"A\", end=' ')\n",
    "                elif self.grid[i, j] == -1:\n",
    "                    print(\"X\", end=' ')  # Obstáculo\n",
    "                elif self.grid[i, j] == 1:\n",
    "                    print(\"D\", end=' ')  # Ponto de entrega\n",
    "                else:\n",
    "                    print(\"--\", end=' ')  # Espaço vazio\n",
    "            print()"
   ]
  },
  {
   "cell_type": "code",
   "execution_count": 3,
   "metadata": {},
   "outputs": [
    {
     "name": "stdout",
     "output_type": "stream",
     "text": [
      "A -- -- -- -- X -- -- -- -- \n",
      "-- X -- -- -- -- -- X -- -- \n",
      "X -- -- -- X -- -- -- -- -- \n",
      "-- -- -- X -- -- -- -- X -- \n",
      "-- -- -- X -- X -- -- -- -- \n",
      "-- X -- -- -- -- X -- -- -- \n",
      "X -- -- -- -- X -- -- -- -- \n",
      "-- -- -- -- X -- X -- -- -- \n",
      "-- -- X -- -- -- -- -- -- X \n",
      "-- -- -- -- -- -- X -- -- D \n"
     ]
    }
   ],
   "source": [
    "# Exemplo de uso:\n",
    "grid_size = (10, 10)\n",
    "obstacles = [(0,5), (1,1), (1,7), (2,4), (2,0), (3,8), (3,3), (4,3), (4,5), (5,1), (5,6), (6,0), (6,5), (7,4), (7,6), (8,2), (8,9), (9,6)]\n",
    "delivery_points = [(9,9)]\n",
    "env = Environment(grid_size, obstacles, delivery_points)\n",
    "env.reset()\n",
    "env.print_environment()"
   ]
  },
  {
   "cell_type": "markdown",
   "metadata": {},
   "source": [
    "#### Considerações\n",
    "Aqui criamos a classe `Environment` que representa o ambiente 2D com obstáculos e pontos de entrega de pacotes. O método `reset` é usado para reiniciar o ambiente, o método `take_action` permite que o agente tome ações como ('up', 'down', 'left', 'right'), e outros métodos fornecem informações sobre o estado, recompensa, e se o ambiente foi concluído."
   ]
  },
  {
   "cell_type": "markdown",
   "metadata": {},
   "source": [
    "## 2 - Definição do MDP\n",
    "\n",
    "  * Modele o problema como um MDP, definindo os estados, as ações, as recompensas, a função de transição e o fator de desconto."
   ]
  },
  {
   "cell_type": "code",
   "execution_count": 21,
   "metadata": {},
   "outputs": [],
   "source": [
    "# Definição do conjunto de estados (S) e a grade do ambiente\n",
    "grid_width = grid_size[0]\n",
    "grid_height = grid_size[1]\n",
    "num_states = grid_width * grid_height\n",
    "states = [(i, j) for i in range(grid_width) for j in range(grid_height)]\n",
    "\n",
    "print(grid_width)\n",
    "print(grid_height)\n",
    "print(num_states)\n",
    "print(states)"
   ]
  },
  {
   "cell_type": "code",
   "execution_count": 25,
   "metadata": {},
   "outputs": [
    {
     "data": {
      "text/plain": [
       "<__main__.MDP at 0x1f7f87e4e50>"
      ]
     },
     "execution_count": 25,
     "metadata": {},
     "output_type": "execute_result"
    }
   ],
   "source": [
    "# Definição do conjunto de ações (A)\n",
    "actions = [\"up\", \"down\", \"left\", \"right\"]\n",
    "actions"
   ]
  },
  {
   "cell_type": "code",
   "execution_count": 6,
   "metadata": {},
   "outputs": [
    {
     "name": "stdout",
     "output_type": "stream",
     "text": [
      "{((0, 0), 'up'): -1, ((0, 0), 'down'): -1, ((0, 0), 'left'): -1, ((0, 0), 'right'): -1, ((0, 1), 'up'): -1, ((0, 1), 'down'): -1, ((0, 1), 'left'): -1, ((0, 1), 'right'): -1, ((0, 2), 'up'): -1, ((0, 2), 'down'): -1, ((0, 2), 'left'): -1, ((0, 2), 'right'): -1, ((0, 3), 'up'): -1, ((0, 3), 'down'): -1, ((0, 3), 'left'): -1, ((0, 3), 'right'): -1, ((0, 4), 'up'): -1, ((0, 4), 'down'): -1, ((0, 4), 'left'): -1, ((0, 4), 'right'): -1, ((0, 5), 'up'): -1, ((0, 5), 'down'): -1, ((0, 5), 'left'): -1, ((0, 5), 'right'): -1, ((0, 6), 'up'): -1, ((0, 6), 'down'): -1, ((0, 6), 'left'): -1, ((0, 6), 'right'): -1, ((0, 7), 'up'): -1, ((0, 7), 'down'): -1, ((0, 7), 'left'): -1, ((0, 7), 'right'): -1, ((0, 8), 'up'): -1, ((0, 8), 'down'): -1, ((0, 8), 'left'): -1, ((0, 8), 'right'): -1, ((0, 9), 'up'): -1, ((0, 9), 'down'): -1, ((0, 9), 'left'): -1, ((0, 9), 'right'): -1, ((1, 0), 'up'): -1, ((1, 0), 'down'): -1, ((1, 0), 'left'): -1, ((1, 0), 'right'): -1, ((1, 1), 'up'): -1, ((1, 1), 'down'): -1, ((1, 1), 'left'): -1, ((1, 1), 'right'): -1, ((1, 2), 'up'): -1, ((1, 2), 'down'): -1, ((1, 2), 'left'): -1, ((1, 2), 'right'): -1, ((1, 3), 'up'): -1, ((1, 3), 'down'): -1, ((1, 3), 'left'): -1, ((1, 3), 'right'): -1, ((1, 4), 'up'): -1, ((1, 4), 'down'): -1, ((1, 4), 'left'): -1, ((1, 4), 'right'): -1, ((1, 5), 'up'): -1, ((1, 5), 'down'): -1, ((1, 5), 'left'): -1, ((1, 5), 'right'): -1, ((1, 6), 'up'): -1, ((1, 6), 'down'): -1, ((1, 6), 'left'): -1, ((1, 6), 'right'): -1, ((1, 7), 'up'): -1, ((1, 7), 'down'): -1, ((1, 7), 'left'): -1, ((1, 7), 'right'): -1, ((1, 8), 'up'): -1, ((1, 8), 'down'): -1, ((1, 8), 'left'): -1, ((1, 8), 'right'): -1, ((1, 9), 'up'): -1, ((1, 9), 'down'): -1, ((1, 9), 'left'): -1, ((1, 9), 'right'): -1, ((2, 0), 'up'): -1, ((2, 0), 'down'): -1, ((2, 0), 'left'): -1, ((2, 0), 'right'): -1, ((2, 1), 'up'): -1, ((2, 1), 'down'): -1, ((2, 1), 'left'): -1, ((2, 1), 'right'): -1, ((2, 2), 'up'): -1, ((2, 2), 'down'): -1, ((2, 2), 'left'): -1, ((2, 2), 'right'): -1, ((2, 3), 'up'): -1, ((2, 3), 'down'): -1, ((2, 3), 'left'): -1, ((2, 3), 'right'): -1, ((2, 4), 'up'): -1, ((2, 4), 'down'): -1, ((2, 4), 'left'): -1, ((2, 4), 'right'): -1, ((2, 5), 'up'): -1, ((2, 5), 'down'): -1, ((2, 5), 'left'): -1, ((2, 5), 'right'): -1, ((2, 6), 'up'): -1, ((2, 6), 'down'): -1, ((2, 6), 'left'): -1, ((2, 6), 'right'): -1, ((2, 7), 'up'): -1, ((2, 7), 'down'): -1, ((2, 7), 'left'): -1, ((2, 7), 'right'): -1, ((2, 8), 'up'): -1, ((2, 8), 'down'): -1, ((2, 8), 'left'): -1, ((2, 8), 'right'): -1, ((2, 9), 'up'): -1, ((2, 9), 'down'): -1, ((2, 9), 'left'): -1, ((2, 9), 'right'): -1, ((3, 0), 'up'): -1, ((3, 0), 'down'): -1, ((3, 0), 'left'): -1, ((3, 0), 'right'): -1, ((3, 1), 'up'): -1, ((3, 1), 'down'): -1, ((3, 1), 'left'): -1, ((3, 1), 'right'): -1, ((3, 2), 'up'): -1, ((3, 2), 'down'): -1, ((3, 2), 'left'): -1, ((3, 2), 'right'): -1, ((3, 3), 'up'): -1, ((3, 3), 'down'): -1, ((3, 3), 'left'): -1, ((3, 3), 'right'): -1, ((3, 4), 'up'): -1, ((3, 4), 'down'): -1, ((3, 4), 'left'): -1, ((3, 4), 'right'): -1, ((3, 5), 'up'): -1, ((3, 5), 'down'): -1, ((3, 5), 'left'): -1, ((3, 5), 'right'): -1, ((3, 6), 'up'): -1, ((3, 6), 'down'): -1, ((3, 6), 'left'): -1, ((3, 6), 'right'): -1, ((3, 7), 'up'): -1, ((3, 7), 'down'): -1, ((3, 7), 'left'): -1, ((3, 7), 'right'): -1, ((3, 8), 'up'): -1, ((3, 8), 'down'): -1, ((3, 8), 'left'): -1, ((3, 8), 'right'): -1, ((3, 9), 'up'): -1, ((3, 9), 'down'): -1, ((3, 9), 'left'): -1, ((3, 9), 'right'): -1, ((4, 0), 'up'): -1, ((4, 0), 'down'): -1, ((4, 0), 'left'): -1, ((4, 0), 'right'): -1, ((4, 1), 'up'): -1, ((4, 1), 'down'): -1, ((4, 1), 'left'): -1, ((4, 1), 'right'): -1, ((4, 2), 'up'): -1, ((4, 2), 'down'): -1, ((4, 2), 'left'): -1, ((4, 2), 'right'): -1, ((4, 3), 'up'): -1, ((4, 3), 'down'): -1, ((4, 3), 'left'): -1, ((4, 3), 'right'): -1, ((4, 4), 'up'): -1, ((4, 4), 'down'): -1, ((4, 4), 'left'): -1, ((4, 4), 'right'): -1, ((4, 5), 'up'): -1, ((4, 5), 'down'): -1, ((4, 5), 'left'): -1, ((4, 5), 'right'): -1, ((4, 6), 'up'): -1, ((4, 6), 'down'): -1, ((4, 6), 'left'): -1, ((4, 6), 'right'): -1, ((4, 7), 'up'): -1, ((4, 7), 'down'): -1, ((4, 7), 'left'): -1, ((4, 7), 'right'): -1, ((4, 8), 'up'): -1, ((4, 8), 'down'): -1, ((4, 8), 'left'): -1, ((4, 8), 'right'): -1, ((4, 9), 'up'): -1, ((4, 9), 'down'): -1, ((4, 9), 'left'): -1, ((4, 9), 'right'): -1, ((5, 0), 'up'): -1, ((5, 0), 'down'): -1, ((5, 0), 'left'): -1, ((5, 0), 'right'): -1, ((5, 1), 'up'): -1, ((5, 1), 'down'): -1, ((5, 1), 'left'): -1, ((5, 1), 'right'): -1, ((5, 2), 'up'): -1, ((5, 2), 'down'): -1, ((5, 2), 'left'): -1, ((5, 2), 'right'): -1, ((5, 3), 'up'): -1, ((5, 3), 'down'): -1, ((5, 3), 'left'): -1, ((5, 3), 'right'): -1, ((5, 4), 'up'): -1, ((5, 4), 'down'): -1, ((5, 4), 'left'): -1, ((5, 4), 'right'): -1, ((5, 5), 'up'): -1, ((5, 5), 'down'): -1, ((5, 5), 'left'): -1, ((5, 5), 'right'): -1, ((5, 6), 'up'): -1, ((5, 6), 'down'): -1, ((5, 6), 'left'): -1, ((5, 6), 'right'): -1, ((5, 7), 'up'): -1, ((5, 7), 'down'): -1, ((5, 7), 'left'): -1, ((5, 7), 'right'): -1, ((5, 8), 'up'): -1, ((5, 8), 'down'): -1, ((5, 8), 'left'): -1, ((5, 8), 'right'): -1, ((5, 9), 'up'): -1, ((5, 9), 'down'): -1, ((5, 9), 'left'): -1, ((5, 9), 'right'): -1, ((6, 0), 'up'): -1, ((6, 0), 'down'): -1, ((6, 0), 'left'): -1, ((6, 0), 'right'): -1, ((6, 1), 'up'): -1, ((6, 1), 'down'): -1, ((6, 1), 'left'): -1, ((6, 1), 'right'): -1, ((6, 2), 'up'): -1, ((6, 2), 'down'): -1, ((6, 2), 'left'): -1, ((6, 2), 'right'): -1, ((6, 3), 'up'): -1, ((6, 3), 'down'): -1, ((6, 3), 'left'): -1, ((6, 3), 'right'): -1, ((6, 4), 'up'): -1, ((6, 4), 'down'): -1, ((6, 4), 'left'): -1, ((6, 4), 'right'): -1, ((6, 5), 'up'): -1, ((6, 5), 'down'): -1, ((6, 5), 'left'): -1, ((6, 5), 'right'): -1, ((6, 6), 'up'): -1, ((6, 6), 'down'): -1, ((6, 6), 'left'): -1, ((6, 6), 'right'): -1, ((6, 7), 'up'): -1, ((6, 7), 'down'): -1, ((6, 7), 'left'): -1, ((6, 7), 'right'): -1, ((6, 8), 'up'): -1, ((6, 8), 'down'): -1, ((6, 8), 'left'): -1, ((6, 8), 'right'): -1, ((6, 9), 'up'): -1, ((6, 9), 'down'): -1, ((6, 9), 'left'): -1, ((6, 9), 'right'): -1, ((7, 0), 'up'): -1, ((7, 0), 'down'): -1, ((7, 0), 'left'): -1, ((7, 0), 'right'): -1, ((7, 1), 'up'): -1, ((7, 1), 'down'): -1, ((7, 1), 'left'): -1, ((7, 1), 'right'): -1, ((7, 2), 'up'): -1, ((7, 2), 'down'): -1, ((7, 2), 'left'): -1, ((7, 2), 'right'): -1, ((7, 3), 'up'): -1, ((7, 3), 'down'): -1, ((7, 3), 'left'): -1, ((7, 3), 'right'): -1, ((7, 4), 'up'): -1, ((7, 4), 'down'): -1, ((7, 4), 'left'): -1, ((7, 4), 'right'): -1, ((7, 5), 'up'): -1, ((7, 5), 'down'): -1, ((7, 5), 'left'): -1, ((7, 5), 'right'): -1, ((7, 6), 'up'): -1, ((7, 6), 'down'): -1, ((7, 6), 'left'): -1, ((7, 6), 'right'): -1, ((7, 7), 'up'): -1, ((7, 7), 'down'): -1, ((7, 7), 'left'): -1, ((7, 7), 'right'): -1, ((7, 8), 'up'): -1, ((7, 8), 'down'): -1, ((7, 8), 'left'): -1, ((7, 8), 'right'): -1, ((7, 9), 'up'): -1, ((7, 9), 'down'): -1, ((7, 9), 'left'): -1, ((7, 9), 'right'): -1, ((8, 0), 'up'): -1, ((8, 0), 'down'): -1, ((8, 0), 'left'): -1, ((8, 0), 'right'): -1, ((8, 1), 'up'): -1, ((8, 1), 'down'): -1, ((8, 1), 'left'): -1, ((8, 1), 'right'): -1, ((8, 2), 'up'): -1, ((8, 2), 'down'): -1, ((8, 2), 'left'): -1, ((8, 2), 'right'): -1, ((8, 3), 'up'): -1, ((8, 3), 'down'): -1, ((8, 3), 'left'): -1, ((8, 3), 'right'): -1, ((8, 4), 'up'): -1, ((8, 4), 'down'): -1, ((8, 4), 'left'): -1, ((8, 4), 'right'): -1, ((8, 5), 'up'): -1, ((8, 5), 'down'): -1, ((8, 5), 'left'): -1, ((8, 5), 'right'): -1, ((8, 6), 'up'): -1, ((8, 6), 'down'): -1, ((8, 6), 'left'): -1, ((8, 6), 'right'): -1, ((8, 7), 'up'): -1, ((8, 7), 'down'): -1, ((8, 7), 'left'): -1, ((8, 7), 'right'): -1, ((8, 8), 'up'): -1, ((8, 8), 'down'): -1, ((8, 8), 'left'): -1, ((8, 8), 'right'): -1, ((8, 9), 'up'): -1, ((8, 9), 'down'): -1, ((8, 9), 'left'): -1, ((8, 9), 'right'): -1, ((9, 0), 'up'): -1, ((9, 0), 'down'): -1, ((9, 0), 'left'): -1, ((9, 0), 'right'): -1, ((9, 1), 'up'): -1, ((9, 1), 'down'): -1, ((9, 1), 'left'): -1, ((9, 1), 'right'): -1, ((9, 2), 'up'): -1, ((9, 2), 'down'): -1, ((9, 2), 'left'): -1, ((9, 2), 'right'): -1, ((9, 3), 'up'): -1, ((9, 3), 'down'): -1, ((9, 3), 'left'): -1, ((9, 3), 'right'): -1, ((9, 4), 'up'): -1, ((9, 4), 'down'): -1, ((9, 4), 'left'): -1, ((9, 4), 'right'): -1, ((9, 5), 'up'): -1, ((9, 5), 'down'): -1, ((9, 5), 'left'): -1, ((9, 5), 'right'): -1, ((9, 6), 'up'): -1, ((9, 6), 'down'): -1, ((9, 6), 'left'): -1, ((9, 6), 'right'): -1, ((9, 7), 'up'): -1, ((9, 7), 'down'): -1, ((9, 7), 'left'): -1, ((9, 7), 'right'): -1, ((9, 8), 'up'): -1, ((9, 8), 'down'): -1, ((9, 8), 'left'): -1, ((9, 8), 'right'): -1, ((9, 9), 'up'): -1, ((9, 9), 'down'): -1, ((9, 9), 'left'): -1, ((9, 9), 'right'): -1, ((9, 9), 'deliver'): 10}\n"
     ]
    }
   ],
   "source": [
    "# Definição da função de recompensa (R)\n",
    "# Vamos usar um dicionário para mapear um par (estado, ação) para uma recompensa\n",
    "# Por exemplo, se o agente entregar um pacote com sucesso, a recompensa é +10, e -1 por cada ação de movimento\n",
    "reward_function = {}\n",
    "for state in states:\n",
    "    for action in actions:\n",
    "        reward_function[(state, action)] = -1  # Living penalty\n",
    "    # Define recompensa alta para estados de entrega bem-sucedida\n",
    "    if state == (9, 9):\n",
    "        reward_function[(state, \"deliver\")] = 10\n",
    "\n",
    "print(reward_function)"
   ]
  },
  {
   "cell_type": "code",
   "execution_count": 7,
   "metadata": {},
   "outputs": [
    {
     "name": "stdout",
     "output_type": "stream",
     "text": [
      "{((0, 0), 'up'): (0, 0), ((0, 0), 'down'): (1, 0), ((0, 0), 'left'): (0, 0), ((0, 0), 'right'): (0, 1), ((0, 1), 'up'): (0, 1), ((0, 1), 'down'): (1, 1), ((0, 1), 'left'): (0, 0), ((0, 1), 'right'): (0, 2), ((0, 2), 'up'): (0, 2), ((0, 2), 'down'): (1, 2), ((0, 2), 'left'): (0, 1), ((0, 2), 'right'): (0, 3), ((0, 3), 'up'): (0, 3), ((0, 3), 'down'): (1, 3), ((0, 3), 'left'): (0, 2), ((0, 3), 'right'): (0, 4), ((0, 4), 'up'): (0, 4), ((0, 4), 'down'): (1, 4), ((0, 4), 'left'): (0, 3), ((0, 4), 'right'): (0, 5), ((0, 5), 'up'): (0, 5), ((0, 5), 'down'): (1, 5), ((0, 5), 'left'): (0, 4), ((0, 5), 'right'): (0, 6), ((0, 6), 'up'): (0, 6), ((0, 6), 'down'): (1, 6), ((0, 6), 'left'): (0, 5), ((0, 6), 'right'): (0, 7), ((0, 7), 'up'): (0, 7), ((0, 7), 'down'): (1, 7), ((0, 7), 'left'): (0, 6), ((0, 7), 'right'): (0, 8), ((0, 8), 'up'): (0, 8), ((0, 8), 'down'): (1, 8), ((0, 8), 'left'): (0, 7), ((0, 8), 'right'): (0, 9), ((0, 9), 'up'): (0, 9), ((0, 9), 'down'): (1, 9), ((0, 9), 'left'): (0, 8), ((0, 9), 'right'): (0, 9), ((1, 0), 'up'): (0, 0), ((1, 0), 'down'): (2, 0), ((1, 0), 'left'): (1, 0), ((1, 0), 'right'): (1, 1), ((1, 1), 'up'): (0, 1), ((1, 1), 'down'): (2, 1), ((1, 1), 'left'): (1, 0), ((1, 1), 'right'): (1, 2), ((1, 2), 'up'): (0, 2), ((1, 2), 'down'): (2, 2), ((1, 2), 'left'): (1, 1), ((1, 2), 'right'): (1, 3), ((1, 3), 'up'): (0, 3), ((1, 3), 'down'): (2, 3), ((1, 3), 'left'): (1, 2), ((1, 3), 'right'): (1, 4), ((1, 4), 'up'): (0, 4), ((1, 4), 'down'): (2, 4), ((1, 4), 'left'): (1, 3), ((1, 4), 'right'): (1, 5), ((1, 5), 'up'): (0, 5), ((1, 5), 'down'): (2, 5), ((1, 5), 'left'): (1, 4), ((1, 5), 'right'): (1, 6), ((1, 6), 'up'): (0, 6), ((1, 6), 'down'): (2, 6), ((1, 6), 'left'): (1, 5), ((1, 6), 'right'): (1, 7), ((1, 7), 'up'): (0, 7), ((1, 7), 'down'): (2, 7), ((1, 7), 'left'): (1, 6), ((1, 7), 'right'): (1, 8), ((1, 8), 'up'): (0, 8), ((1, 8), 'down'): (2, 8), ((1, 8), 'left'): (1, 7), ((1, 8), 'right'): (1, 9), ((1, 9), 'up'): (0, 9), ((1, 9), 'down'): (2, 9), ((1, 9), 'left'): (1, 8), ((1, 9), 'right'): (1, 9), ((2, 0), 'up'): (1, 0), ((2, 0), 'down'): (3, 0), ((2, 0), 'left'): (2, 0), ((2, 0), 'right'): (2, 1), ((2, 1), 'up'): (1, 1), ((2, 1), 'down'): (3, 1), ((2, 1), 'left'): (2, 0), ((2, 1), 'right'): (2, 2), ((2, 2), 'up'): (1, 2), ((2, 2), 'down'): (3, 2), ((2, 2), 'left'): (2, 1), ((2, 2), 'right'): (2, 3), ((2, 3), 'up'): (1, 3), ((2, 3), 'down'): (3, 3), ((2, 3), 'left'): (2, 2), ((2, 3), 'right'): (2, 4), ((2, 4), 'up'): (1, 4), ((2, 4), 'down'): (3, 4), ((2, 4), 'left'): (2, 3), ((2, 4), 'right'): (2, 5), ((2, 5), 'up'): (1, 5), ((2, 5), 'down'): (3, 5), ((2, 5), 'left'): (2, 4), ((2, 5), 'right'): (2, 6), ((2, 6), 'up'): (1, 6), ((2, 6), 'down'): (3, 6), ((2, 6), 'left'): (2, 5), ((2, 6), 'right'): (2, 7), ((2, 7), 'up'): (1, 7), ((2, 7), 'down'): (3, 7), ((2, 7), 'left'): (2, 6), ((2, 7), 'right'): (2, 8), ((2, 8), 'up'): (1, 8), ((2, 8), 'down'): (3, 8), ((2, 8), 'left'): (2, 7), ((2, 8), 'right'): (2, 9), ((2, 9), 'up'): (1, 9), ((2, 9), 'down'): (3, 9), ((2, 9), 'left'): (2, 8), ((2, 9), 'right'): (2, 9), ((3, 0), 'up'): (2, 0), ((3, 0), 'down'): (4, 0), ((3, 0), 'left'): (3, 0), ((3, 0), 'right'): (3, 1), ((3, 1), 'up'): (2, 1), ((3, 1), 'down'): (4, 1), ((3, 1), 'left'): (3, 0), ((3, 1), 'right'): (3, 2), ((3, 2), 'up'): (2, 2), ((3, 2), 'down'): (4, 2), ((3, 2), 'left'): (3, 1), ((3, 2), 'right'): (3, 3), ((3, 3), 'up'): (2, 3), ((3, 3), 'down'): (4, 3), ((3, 3), 'left'): (3, 2), ((3, 3), 'right'): (3, 4), ((3, 4), 'up'): (2, 4), ((3, 4), 'down'): (4, 4), ((3, 4), 'left'): (3, 3), ((3, 4), 'right'): (3, 5), ((3, 5), 'up'): (2, 5), ((3, 5), 'down'): (4, 5), ((3, 5), 'left'): (3, 4), ((3, 5), 'right'): (3, 6), ((3, 6), 'up'): (2, 6), ((3, 6), 'down'): (4, 6), ((3, 6), 'left'): (3, 5), ((3, 6), 'right'): (3, 7), ((3, 7), 'up'): (2, 7), ((3, 7), 'down'): (4, 7), ((3, 7), 'left'): (3, 6), ((3, 7), 'right'): (3, 8), ((3, 8), 'up'): (2, 8), ((3, 8), 'down'): (4, 8), ((3, 8), 'left'): (3, 7), ((3, 8), 'right'): (3, 9), ((3, 9), 'up'): (2, 9), ((3, 9), 'down'): (4, 9), ((3, 9), 'left'): (3, 8), ((3, 9), 'right'): (3, 9), ((4, 0), 'up'): (3, 0), ((4, 0), 'down'): (5, 0), ((4, 0), 'left'): (4, 0), ((4, 0), 'right'): (4, 1), ((4, 1), 'up'): (3, 1), ((4, 1), 'down'): (5, 1), ((4, 1), 'left'): (4, 0), ((4, 1), 'right'): (4, 2), ((4, 2), 'up'): (3, 2), ((4, 2), 'down'): (5, 2), ((4, 2), 'left'): (4, 1), ((4, 2), 'right'): (4, 3), ((4, 3), 'up'): (3, 3), ((4, 3), 'down'): (5, 3), ((4, 3), 'left'): (4, 2), ((4, 3), 'right'): (4, 4), ((4, 4), 'up'): (3, 4), ((4, 4), 'down'): (5, 4), ((4, 4), 'left'): (4, 3), ((4, 4), 'right'): (4, 5), ((4, 5), 'up'): (3, 5), ((4, 5), 'down'): (5, 5), ((4, 5), 'left'): (4, 4), ((4, 5), 'right'): (4, 6), ((4, 6), 'up'): (3, 6), ((4, 6), 'down'): (5, 6), ((4, 6), 'left'): (4, 5), ((4, 6), 'right'): (4, 7), ((4, 7), 'up'): (3, 7), ((4, 7), 'down'): (5, 7), ((4, 7), 'left'): (4, 6), ((4, 7), 'right'): (4, 8), ((4, 8), 'up'): (3, 8), ((4, 8), 'down'): (5, 8), ((4, 8), 'left'): (4, 7), ((4, 8), 'right'): (4, 9), ((4, 9), 'up'): (3, 9), ((4, 9), 'down'): (5, 9), ((4, 9), 'left'): (4, 8), ((4, 9), 'right'): (4, 9), ((5, 0), 'up'): (4, 0), ((5, 0), 'down'): (6, 0), ((5, 0), 'left'): (5, 0), ((5, 0), 'right'): (5, 1), ((5, 1), 'up'): (4, 1), ((5, 1), 'down'): (6, 1), ((5, 1), 'left'): (5, 0), ((5, 1), 'right'): (5, 2), ((5, 2), 'up'): (4, 2), ((5, 2), 'down'): (6, 2), ((5, 2), 'left'): (5, 1), ((5, 2), 'right'): (5, 3), ((5, 3), 'up'): (4, 3), ((5, 3), 'down'): (6, 3), ((5, 3), 'left'): (5, 2), ((5, 3), 'right'): (5, 4), ((5, 4), 'up'): (4, 4), ((5, 4), 'down'): (6, 4), ((5, 4), 'left'): (5, 3), ((5, 4), 'right'): (5, 5), ((5, 5), 'up'): (4, 5), ((5, 5), 'down'): (6, 5), ((5, 5), 'left'): (5, 4), ((5, 5), 'right'): (5, 6), ((5, 6), 'up'): (4, 6), ((5, 6), 'down'): (6, 6), ((5, 6), 'left'): (5, 5), ((5, 6), 'right'): (5, 7), ((5, 7), 'up'): (4, 7), ((5, 7), 'down'): (6, 7), ((5, 7), 'left'): (5, 6), ((5, 7), 'right'): (5, 8), ((5, 8), 'up'): (4, 8), ((5, 8), 'down'): (6, 8), ((5, 8), 'left'): (5, 7), ((5, 8), 'right'): (5, 9), ((5, 9), 'up'): (4, 9), ((5, 9), 'down'): (6, 9), ((5, 9), 'left'): (5, 8), ((5, 9), 'right'): (5, 9), ((6, 0), 'up'): (5, 0), ((6, 0), 'down'): (7, 0), ((6, 0), 'left'): (6, 0), ((6, 0), 'right'): (6, 1), ((6, 1), 'up'): (5, 1), ((6, 1), 'down'): (7, 1), ((6, 1), 'left'): (6, 0), ((6, 1), 'right'): (6, 2), ((6, 2), 'up'): (5, 2), ((6, 2), 'down'): (7, 2), ((6, 2), 'left'): (6, 1), ((6, 2), 'right'): (6, 3), ((6, 3), 'up'): (5, 3), ((6, 3), 'down'): (7, 3), ((6, 3), 'left'): (6, 2), ((6, 3), 'right'): (6, 4), ((6, 4), 'up'): (5, 4), ((6, 4), 'down'): (7, 4), ((6, 4), 'left'): (6, 3), ((6, 4), 'right'): (6, 5), ((6, 5), 'up'): (5, 5), ((6, 5), 'down'): (7, 5), ((6, 5), 'left'): (6, 4), ((6, 5), 'right'): (6, 6), ((6, 6), 'up'): (5, 6), ((6, 6), 'down'): (7, 6), ((6, 6), 'left'): (6, 5), ((6, 6), 'right'): (6, 7), ((6, 7), 'up'): (5, 7), ((6, 7), 'down'): (7, 7), ((6, 7), 'left'): (6, 6), ((6, 7), 'right'): (6, 8), ((6, 8), 'up'): (5, 8), ((6, 8), 'down'): (7, 8), ((6, 8), 'left'): (6, 7), ((6, 8), 'right'): (6, 9), ((6, 9), 'up'): (5, 9), ((6, 9), 'down'): (7, 9), ((6, 9), 'left'): (6, 8), ((6, 9), 'right'): (6, 9), ((7, 0), 'up'): (6, 0), ((7, 0), 'down'): (8, 0), ((7, 0), 'left'): (7, 0), ((7, 0), 'right'): (7, 1), ((7, 1), 'up'): (6, 1), ((7, 1), 'down'): (8, 1), ((7, 1), 'left'): (7, 0), ((7, 1), 'right'): (7, 2), ((7, 2), 'up'): (6, 2), ((7, 2), 'down'): (8, 2), ((7, 2), 'left'): (7, 1), ((7, 2), 'right'): (7, 3), ((7, 3), 'up'): (6, 3), ((7, 3), 'down'): (8, 3), ((7, 3), 'left'): (7, 2), ((7, 3), 'right'): (7, 4), ((7, 4), 'up'): (6, 4), ((7, 4), 'down'): (8, 4), ((7, 4), 'left'): (7, 3), ((7, 4), 'right'): (7, 5), ((7, 5), 'up'): (6, 5), ((7, 5), 'down'): (8, 5), ((7, 5), 'left'): (7, 4), ((7, 5), 'right'): (7, 6), ((7, 6), 'up'): (6, 6), ((7, 6), 'down'): (8, 6), ((7, 6), 'left'): (7, 5), ((7, 6), 'right'): (7, 7), ((7, 7), 'up'): (6, 7), ((7, 7), 'down'): (8, 7), ((7, 7), 'left'): (7, 6), ((7, 7), 'right'): (7, 8), ((7, 8), 'up'): (6, 8), ((7, 8), 'down'): (8, 8), ((7, 8), 'left'): (7, 7), ((7, 8), 'right'): (7, 9), ((7, 9), 'up'): (6, 9), ((7, 9), 'down'): (8, 9), ((7, 9), 'left'): (7, 8), ((7, 9), 'right'): (7, 9), ((8, 0), 'up'): (7, 0), ((8, 0), 'down'): (9, 0), ((8, 0), 'left'): (8, 0), ((8, 0), 'right'): (8, 1), ((8, 1), 'up'): (7, 1), ((8, 1), 'down'): (9, 1), ((8, 1), 'left'): (8, 0), ((8, 1), 'right'): (8, 2), ((8, 2), 'up'): (7, 2), ((8, 2), 'down'): (9, 2), ((8, 2), 'left'): (8, 1), ((8, 2), 'right'): (8, 3), ((8, 3), 'up'): (7, 3), ((8, 3), 'down'): (9, 3), ((8, 3), 'left'): (8, 2), ((8, 3), 'right'): (8, 4), ((8, 4), 'up'): (7, 4), ((8, 4), 'down'): (9, 4), ((8, 4), 'left'): (8, 3), ((8, 4), 'right'): (8, 5), ((8, 5), 'up'): (7, 5), ((8, 5), 'down'): (9, 5), ((8, 5), 'left'): (8, 4), ((8, 5), 'right'): (8, 6), ((8, 6), 'up'): (7, 6), ((8, 6), 'down'): (9, 6), ((8, 6), 'left'): (8, 5), ((8, 6), 'right'): (8, 7), ((8, 7), 'up'): (7, 7), ((8, 7), 'down'): (9, 7), ((8, 7), 'left'): (8, 6), ((8, 7), 'right'): (8, 8), ((8, 8), 'up'): (7, 8), ((8, 8), 'down'): (9, 8), ((8, 8), 'left'): (8, 7), ((8, 8), 'right'): (8, 9), ((8, 9), 'up'): (7, 9), ((8, 9), 'down'): (9, 9), ((8, 9), 'left'): (8, 8), ((8, 9), 'right'): (8, 9), ((9, 0), 'up'): (8, 0), ((9, 0), 'down'): (9, 0), ((9, 0), 'left'): (9, 0), ((9, 0), 'right'): (9, 1), ((9, 1), 'up'): (8, 1), ((9, 1), 'down'): (9, 1), ((9, 1), 'left'): (9, 0), ((9, 1), 'right'): (9, 2), ((9, 2), 'up'): (8, 2), ((9, 2), 'down'): (9, 2), ((9, 2), 'left'): (9, 1), ((9, 2), 'right'): (9, 3), ((9, 3), 'up'): (8, 3), ((9, 3), 'down'): (9, 3), ((9, 3), 'left'): (9, 2), ((9, 3), 'right'): (9, 4), ((9, 4), 'up'): (8, 4), ((9, 4), 'down'): (9, 4), ((9, 4), 'left'): (9, 3), ((9, 4), 'right'): (9, 5), ((9, 5), 'up'): (8, 5), ((9, 5), 'down'): (9, 5), ((9, 5), 'left'): (9, 4), ((9, 5), 'right'): (9, 6), ((9, 6), 'up'): (8, 6), ((9, 6), 'down'): (9, 6), ((9, 6), 'left'): (9, 5), ((9, 6), 'right'): (9, 7), ((9, 7), 'up'): (8, 7), ((9, 7), 'down'): (9, 7), ((9, 7), 'left'): (9, 6), ((9, 7), 'right'): (9, 8), ((9, 8), 'up'): (8, 8), ((9, 8), 'down'): (9, 8), ((9, 8), 'left'): (9, 7), ((9, 8), 'right'): (9, 9), ((9, 9), 'up'): (8, 9), ((9, 9), 'down'): (9, 9), ((9, 9), 'left'): (9, 8), ((9, 9), 'right'): (9, 9)}\n"
     ]
    }
   ],
   "source": [
    "# Definição da função de transição (T)\n",
    "# Vamos criar uma função de transição determinística para este exemplo\n",
    "# Ela mapeia (estado, ação) para o próximo estado\n",
    "transition_function = {}\n",
    "for state in states:\n",
    "    for action in actions:\n",
    "        if action == \"up\":\n",
    "            next_state = (max(state[0] - 1, 0), state[1])\n",
    "        elif action == \"down\":\n",
    "            next_state = (min(state[0] + 1, grid_width - 1), state[1])\n",
    "        elif action == \"left\":\n",
    "            next_state = (state[0], max(state[1] - 1, 0))\n",
    "        elif action == \"right\":\n",
    "            next_state = (state[0], min(state[1] + 1, grid_height - 1))\n",
    "        transition_function[(state, action)] = next_state\n",
    "\n",
    "print(transition_function)"
   ]
  },
  {
   "cell_type": "markdown",
   "metadata": {},
   "source": [
    "#### Neste código modelamos um `MDP`, especificando:\n",
    "\n",
    "* `(S)` - O conjunto de estados\n",
    "* `(A)` - O conjunto de ações\n",
    "* `(R)` - A função de recompensa\n",
    "* `(T)` - A função de transição (que descreve a probabilidade de transição de um estado para o outro após uma ação)\n"
   ]
  },
  {
   "cell_type": "markdown",
   "metadata": {},
   "source": [
    "## 3 - Implementação da Q-Table\n",
    "\n",
    "  * Crie uma Q-Table para representar o valor estimado de cada par (estado, ação)."
   ]
  },
  {
   "cell_type": "code",
   "execution_count": 8,
   "metadata": {},
   "outputs": [
    {
     "name": "stdout",
     "output_type": "stream",
     "text": [
      "100\n",
      "4\n"
     ]
    }
   ],
   "source": [
    "# Cria uma matriz de zeros com dimensões (número de estados, número de ações)\n",
    "num_states = len(states)\n",
    "num_actions = len(actions)\n",
    "\n",
    "print(num_states)\n",
    "print(num_actions)"
   ]
  },
  {
   "cell_type": "code",
   "execution_count": 9,
   "metadata": {},
   "outputs": [
    {
     "name": "stdout",
     "output_type": "stream",
     "text": [
      "[[0. 0. 0. 0.]\n",
      " [0. 0. 0. 0.]\n",
      " [0. 0. 0. 0.]\n",
      " [0. 0. 0. 0.]\n",
      " [0. 0. 0. 0.]\n",
      " [0. 0. 0. 0.]\n",
      " [0. 0. 0. 0.]\n",
      " [0. 0. 0. 0.]\n",
      " [0. 0. 0. 0.]\n",
      " [0. 0. 0. 0.]\n",
      " [0. 0. 0. 0.]\n",
      " [0. 0. 0. 0.]\n",
      " [0. 0. 0. 0.]\n",
      " [0. 0. 0. 0.]\n",
      " [0. 0. 0. 0.]\n",
      " [0. 0. 0. 0.]\n",
      " [0. 0. 0. 0.]\n",
      " [0. 0. 0. 0.]\n",
      " [0. 0. 0. 0.]\n",
      " [0. 0. 0. 0.]\n",
      " [0. 0. 0. 0.]\n",
      " [0. 0. 0. 0.]\n",
      " [0. 0. 0. 0.]\n",
      " [0. 0. 0. 0.]\n",
      " [0. 0. 0. 0.]\n",
      " [0. 0. 0. 0.]\n",
      " [0. 0. 0. 0.]\n",
      " [0. 0. 0. 0.]\n",
      " [0. 0. 0. 0.]\n",
      " [0. 0. 0. 0.]\n",
      " [0. 0. 0. 0.]\n",
      " [0. 0. 0. 0.]\n",
      " [0. 0. 0. 0.]\n",
      " [0. 0. 0. 0.]\n",
      " [0. 0. 0. 0.]\n",
      " [0. 0. 0. 0.]\n",
      " [0. 0. 0. 0.]\n",
      " [0. 0. 0. 0.]\n",
      " [0. 0. 0. 0.]\n",
      " [0. 0. 0. 0.]\n",
      " [0. 0. 0. 0.]\n",
      " [0. 0. 0. 0.]\n",
      " [0. 0. 0. 0.]\n",
      " [0. 0. 0. 0.]\n",
      " [0. 0. 0. 0.]\n",
      " [0. 0. 0. 0.]\n",
      " [0. 0. 0. 0.]\n",
      " [0. 0. 0. 0.]\n",
      " [0. 0. 0. 0.]\n",
      " [0. 0. 0. 0.]\n",
      " [0. 0. 0. 0.]\n",
      " [0. 0. 0. 0.]\n",
      " [0. 0. 0. 0.]\n",
      " [0. 0. 0. 0.]\n",
      " [0. 0. 0. 0.]\n",
      " [0. 0. 0. 0.]\n",
      " [0. 0. 0. 0.]\n",
      " [0. 0. 0. 0.]\n",
      " [0. 0. 0. 0.]\n",
      " [0. 0. 0. 0.]\n",
      " [0. 0. 0. 0.]\n",
      " [0. 0. 0. 0.]\n",
      " [0. 0. 0. 0.]\n",
      " [0. 0. 0. 0.]\n",
      " [0. 0. 0. 0.]\n",
      " [0. 0. 0. 0.]\n",
      " [0. 0. 0. 0.]\n",
      " [0. 0. 0. 0.]\n",
      " [0. 0. 0. 0.]\n",
      " [0. 0. 0. 0.]\n",
      " [0. 0. 0. 0.]\n",
      " [0. 0. 0. 0.]\n",
      " [0. 0. 0. 0.]\n",
      " [0. 0. 0. 0.]\n",
      " [0. 0. 0. 0.]\n",
      " [0. 0. 0. 0.]\n",
      " [0. 0. 0. 0.]\n",
      " [0. 0. 0. 0.]\n",
      " [0. 0. 0. 0.]\n",
      " [0. 0. 0. 0.]\n",
      " [0. 0. 0. 0.]\n",
      " [0. 0. 0. 0.]\n",
      " [0. 0. 0. 0.]\n",
      " [0. 0. 0. 0.]\n",
      " [0. 0. 0. 0.]\n",
      " [0. 0. 0. 0.]\n",
      " [0. 0. 0. 0.]\n",
      " [0. 0. 0. 0.]\n",
      " [0. 0. 0. 0.]\n",
      " [0. 0. 0. 0.]\n",
      " [0. 0. 0. 0.]\n",
      " [0. 0. 0. 0.]\n",
      " [0. 0. 0. 0.]\n",
      " [0. 0. 0. 0.]\n",
      " [0. 0. 0. 0.]\n",
      " [0. 0. 0. 0.]\n",
      " [0. 0. 0. 0.]\n",
      " [0. 0. 0. 0.]\n",
      " [0. 0. 0. 0.]\n",
      " [0. 0. 0. 0.]]\n"
     ]
    }
   ],
   "source": [
    "# Inicialização Q-Table com zeros\n",
    "q_table = np.zeros((num_states, num_actions))\n",
    "print(q_table)"
   ]
  },
  {
   "cell_type": "markdown",
   "metadata": {},
   "source": [
    "#### Considerações\n",
    " \n",
    "* Criamos uma Q-Table inicializada com zeros. Cada linha representa um estado e cada coluna uma ação.\n",
    "* O agente irá atualizar os valores nessa tabela durante o treinamento usando o algoritmo de aprendizado por reforço."
   ]
  },
  {
   "cell_type": "markdown",
   "metadata": {},
   "source": [
    "## 4 - Implementação do agente\n",
    "\n",
    "  * Desenvolva um agente de aprendizado por reforço que utiliza a equação de Bellman para atualizar a Q-Table com"
   ]
  },
  {
   "cell_type": "code",
   "execution_count": 10,
   "metadata": {},
   "outputs": [
    {
     "data": {
      "text/plain": [
       "0.1"
      ]
     },
     "execution_count": 10,
     "metadata": {},
     "output_type": "execute_result"
    }
   ],
   "source": [
    "# Parâmetros do algoritmo Q-Learning\n",
    "learning_rate = 0.1  # Taxa de aprendizado\n",
    "learning_rate"
   ]
  },
  {
   "cell_type": "code",
   "execution_count": 11,
   "metadata": {},
   "outputs": [
    {
     "data": {
      "text/plain": [
       "0.9"
      ]
     },
     "execution_count": 11,
     "metadata": {},
     "output_type": "execute_result"
    }
   ],
   "source": [
    "discount_factor = 0.9  # Fator de desconto\n",
    "discount_factor"
   ]
  },
  {
   "cell_type": "code",
   "execution_count": 12,
   "metadata": {},
   "outputs": [
    {
     "data": {
      "text/plain": [
       "0.2"
      ]
     },
     "execution_count": 12,
     "metadata": {},
     "output_type": "execute_result"
    }
   ],
   "source": [
    "exploration_prob = 0.2  # Probabilidade de explorar (ε-greedy)\n",
    "exploration_prob"
   ]
  },
  {
   "cell_type": "code",
   "execution_count": 13,
   "metadata": {},
   "outputs": [],
   "source": [
    "# Treinamento do agente\n",
    "num_episodes = 1000  # Número de episódios de treinamento\n",
    "for episode in range(num_episodes):\n",
    "    state = (0, 0)  # Estado inicial\n",
    "\n",
    "    while state != (9,9):  # Enquanto o agente não entregar o pacote com sucesso\n",
    "        # Escolha a ação com base na política ε-greedy\n",
    "        if np.random.rand() < exploration_prob:\n",
    "            action = np.random.choice(actions)\n",
    "        else:\n",
    "            action = actions[np.argmax(q_table[states.index(state)])]\n",
    "\n",
    "        # Realize a ação e observe o novo estado e a recompensa\n",
    "        next_state = transition_function[(state, action)]\n",
    "        reward = reward_function[(state, action)]\n",
    "\n",
    "        # Atualize a Q-Table usando a equação de Bellman\n",
    "        q_table[states.index(state), actions.index(action)] = (1 - learning_rate) * q_table[states.index(state), actions.index(action)] + learning_rate * (reward + discount_factor * np.max(q_table[states.index(next_state)]))\n",
    "\n",
    "        state = next_state  # Atualize o estado para o próximo\n",
    "        # print(state, action, reward, q_table)"
   ]
  },
  {
   "cell_type": "code",
   "execution_count": 14,
   "metadata": {},
   "outputs": [
    {
     "data": {
      "text/plain": [
       "(9, 9)"
      ]
     },
     "execution_count": 14,
     "metadata": {},
     "output_type": "execute_result"
    }
   ],
   "source": [
    "state"
   ]
  },
  {
   "cell_type": "markdown",
   "metadata": {},
   "source": [
    "#### No código acima concluímos os passos:\n",
    "* Definição das regras \n",
    "    * learning_rate\n",
    "    * discount_factor\n",
    "    * exploration_prob (ε-greedy)\n",
    "* Treinamos o agente\n",
    "* Atualização dos valores da Q-Table"
   ]
  },
  {
   "cell_type": "markdown",
   "metadata": {},
   "source": [
    "## 5 - Living Penalty\n",
    "\n",
    "  * Introduza um \"living penalty\" para penalizar o agente por gastar muito tempo no ambiente. Isso deve incentivar o agente a encontrar a rota mais eficiente para entregar os pacotes."
   ]
  },
  {
   "cell_type": "code",
   "execution_count": 15,
   "metadata": {},
   "outputs": [
    {
     "name": "stdout",
     "output_type": "stream",
     "text": [
      "{((0, 0), 'up'): -1, ((0, 0), 'down'): -1, ((0, 0), 'left'): -1, ((0, 0), 'right'): -1, ((0, 1), 'up'): -1, ((0, 1), 'down'): -1, ((0, 1), 'left'): -1, ((0, 1), 'right'): -1, ((0, 2), 'up'): -1, ((0, 2), 'down'): -1, ((0, 2), 'left'): -1, ((0, 2), 'right'): -1, ((0, 3), 'up'): -1, ((0, 3), 'down'): -1, ((0, 3), 'left'): -1, ((0, 3), 'right'): -1, ((0, 4), 'up'): -1, ((0, 4), 'down'): -1, ((0, 4), 'left'): -1, ((0, 4), 'right'): -1, ((0, 5), 'up'): -6, ((0, 5), 'down'): -6, ((0, 5), 'left'): -6, ((0, 5), 'right'): -6, ((0, 6), 'up'): -1, ((0, 6), 'down'): -1, ((0, 6), 'left'): -1, ((0, 6), 'right'): -1, ((0, 7), 'up'): -1, ((0, 7), 'down'): -1, ((0, 7), 'left'): -1, ((0, 7), 'right'): -1, ((0, 8), 'up'): -1, ((0, 8), 'down'): -1, ((0, 8), 'left'): -1, ((0, 8), 'right'): -1, ((0, 9), 'up'): -1, ((0, 9), 'down'): -1, ((0, 9), 'left'): -1, ((0, 9), 'right'): -1, ((1, 0), 'up'): -1, ((1, 0), 'down'): -1, ((1, 0), 'left'): -1, ((1, 0), 'right'): -1, ((1, 1), 'up'): -6, ((1, 1), 'down'): -6, ((1, 1), 'left'): -6, ((1, 1), 'right'): -6, ((1, 2), 'up'): -1, ((1, 2), 'down'): -1, ((1, 2), 'left'): -1, ((1, 2), 'right'): -1, ((1, 3), 'up'): -1, ((1, 3), 'down'): -1, ((1, 3), 'left'): -1, ((1, 3), 'right'): -1, ((1, 4), 'up'): -1, ((1, 4), 'down'): -1, ((1, 4), 'left'): -1, ((1, 4), 'right'): -1, ((1, 5), 'up'): -1, ((1, 5), 'down'): -1, ((1, 5), 'left'): -1, ((1, 5), 'right'): -1, ((1, 6), 'up'): -1, ((1, 6), 'down'): -1, ((1, 6), 'left'): -1, ((1, 6), 'right'): -1, ((1, 7), 'up'): -6, ((1, 7), 'down'): -6, ((1, 7), 'left'): -6, ((1, 7), 'right'): -6, ((1, 8), 'up'): -1, ((1, 8), 'down'): -1, ((1, 8), 'left'): -1, ((1, 8), 'right'): -1, ((1, 9), 'up'): -1, ((1, 9), 'down'): -1, ((1, 9), 'left'): -1, ((1, 9), 'right'): -1, ((2, 0), 'up'): -6, ((2, 0), 'down'): -6, ((2, 0), 'left'): -6, ((2, 0), 'right'): -6, ((2, 1), 'up'): -1, ((2, 1), 'down'): -1, ((2, 1), 'left'): -1, ((2, 1), 'right'): -1, ((2, 2), 'up'): -1, ((2, 2), 'down'): -1, ((2, 2), 'left'): -1, ((2, 2), 'right'): -1, ((2, 3), 'up'): -1, ((2, 3), 'down'): -1, ((2, 3), 'left'): -1, ((2, 3), 'right'): -1, ((2, 4), 'up'): -6, ((2, 4), 'down'): -6, ((2, 4), 'left'): -6, ((2, 4), 'right'): -6, ((2, 5), 'up'): -1, ((2, 5), 'down'): -1, ((2, 5), 'left'): -1, ((2, 5), 'right'): -1, ((2, 6), 'up'): -1, ((2, 6), 'down'): -1, ((2, 6), 'left'): -1, ((2, 6), 'right'): -1, ((2, 7), 'up'): -1, ((2, 7), 'down'): -1, ((2, 7), 'left'): -1, ((2, 7), 'right'): -1, ((2, 8), 'up'): -1, ((2, 8), 'down'): -1, ((2, 8), 'left'): -1, ((2, 8), 'right'): -1, ((2, 9), 'up'): -1, ((2, 9), 'down'): -1, ((2, 9), 'left'): -1, ((2, 9), 'right'): -1, ((3, 0), 'up'): -1, ((3, 0), 'down'): -1, ((3, 0), 'left'): -1, ((3, 0), 'right'): -1, ((3, 1), 'up'): -1, ((3, 1), 'down'): -1, ((3, 1), 'left'): -1, ((3, 1), 'right'): -1, ((3, 2), 'up'): -1, ((3, 2), 'down'): -1, ((3, 2), 'left'): -1, ((3, 2), 'right'): -1, ((3, 3), 'up'): -6, ((3, 3), 'down'): -6, ((3, 3), 'left'): -6, ((3, 3), 'right'): -6, ((3, 4), 'up'): -1, ((3, 4), 'down'): -1, ((3, 4), 'left'): -1, ((3, 4), 'right'): -1, ((3, 5), 'up'): -1, ((3, 5), 'down'): -1, ((3, 5), 'left'): -1, ((3, 5), 'right'): -1, ((3, 6), 'up'): -1, ((3, 6), 'down'): -1, ((3, 6), 'left'): -1, ((3, 6), 'right'): -1, ((3, 7), 'up'): -1, ((3, 7), 'down'): -1, ((3, 7), 'left'): -1, ((3, 7), 'right'): -1, ((3, 8), 'up'): -6, ((3, 8), 'down'): -6, ((3, 8), 'left'): -6, ((3, 8), 'right'): -6, ((3, 9), 'up'): -1, ((3, 9), 'down'): -1, ((3, 9), 'left'): -1, ((3, 9), 'right'): -1, ((4, 0), 'up'): -1, ((4, 0), 'down'): -1, ((4, 0), 'left'): -1, ((4, 0), 'right'): -1, ((4, 1), 'up'): -1, ((4, 1), 'down'): -1, ((4, 1), 'left'): -1, ((4, 1), 'right'): -1, ((4, 2), 'up'): -1, ((4, 2), 'down'): -1, ((4, 2), 'left'): -1, ((4, 2), 'right'): -1, ((4, 3), 'up'): -6, ((4, 3), 'down'): -6, ((4, 3), 'left'): -6, ((4, 3), 'right'): -6, ((4, 4), 'up'): -1, ((4, 4), 'down'): -1, ((4, 4), 'left'): -1, ((4, 4), 'right'): -1, ((4, 5), 'up'): -6, ((4, 5), 'down'): -6, ((4, 5), 'left'): -6, ((4, 5), 'right'): -6, ((4, 6), 'up'): -1, ((4, 6), 'down'): -1, ((4, 6), 'left'): -1, ((4, 6), 'right'): -1, ((4, 7), 'up'): -1, ((4, 7), 'down'): -1, ((4, 7), 'left'): -1, ((4, 7), 'right'): -1, ((4, 8), 'up'): -1, ((4, 8), 'down'): -1, ((4, 8), 'left'): -1, ((4, 8), 'right'): -1, ((4, 9), 'up'): -1, ((4, 9), 'down'): -1, ((4, 9), 'left'): -1, ((4, 9), 'right'): -1, ((5, 0), 'up'): -1, ((5, 0), 'down'): -1, ((5, 0), 'left'): -1, ((5, 0), 'right'): -1, ((5, 1), 'up'): -6, ((5, 1), 'down'): -6, ((5, 1), 'left'): -6, ((5, 1), 'right'): -6, ((5, 2), 'up'): -1, ((5, 2), 'down'): -1, ((5, 2), 'left'): -1, ((5, 2), 'right'): -1, ((5, 3), 'up'): -1, ((5, 3), 'down'): -1, ((5, 3), 'left'): -1, ((5, 3), 'right'): -1, ((5, 4), 'up'): -1, ((5, 4), 'down'): -1, ((5, 4), 'left'): -1, ((5, 4), 'right'): -1, ((5, 5), 'up'): -1, ((5, 5), 'down'): -1, ((5, 5), 'left'): -1, ((5, 5), 'right'): -1, ((5, 6), 'up'): -6, ((5, 6), 'down'): -6, ((5, 6), 'left'): -6, ((5, 6), 'right'): -6, ((5, 7), 'up'): -1, ((5, 7), 'down'): -1, ((5, 7), 'left'): -1, ((5, 7), 'right'): -1, ((5, 8), 'up'): -1, ((5, 8), 'down'): -1, ((5, 8), 'left'): -1, ((5, 8), 'right'): -1, ((5, 9), 'up'): -1, ((5, 9), 'down'): -1, ((5, 9), 'left'): -1, ((5, 9), 'right'): -1, ((6, 0), 'up'): -6, ((6, 0), 'down'): -6, ((6, 0), 'left'): -6, ((6, 0), 'right'): -6, ((6, 1), 'up'): -1, ((6, 1), 'down'): -1, ((6, 1), 'left'): -1, ((6, 1), 'right'): -1, ((6, 2), 'up'): -1, ((6, 2), 'down'): -1, ((6, 2), 'left'): -1, ((6, 2), 'right'): -1, ((6, 3), 'up'): -1, ((6, 3), 'down'): -1, ((6, 3), 'left'): -1, ((6, 3), 'right'): -1, ((6, 4), 'up'): -1, ((6, 4), 'down'): -1, ((6, 4), 'left'): -1, ((6, 4), 'right'): -1, ((6, 5), 'up'): -6, ((6, 5), 'down'): -6, ((6, 5), 'left'): -6, ((6, 5), 'right'): -6, ((6, 6), 'up'): -1, ((6, 6), 'down'): -1, ((6, 6), 'left'): -1, ((6, 6), 'right'): -1, ((6, 7), 'up'): -1, ((6, 7), 'down'): -1, ((6, 7), 'left'): -1, ((6, 7), 'right'): -1, ((6, 8), 'up'): -1, ((6, 8), 'down'): -1, ((6, 8), 'left'): -1, ((6, 8), 'right'): -1, ((6, 9), 'up'): -1, ((6, 9), 'down'): -1, ((6, 9), 'left'): -1, ((6, 9), 'right'): -1, ((7, 0), 'up'): -1, ((7, 0), 'down'): -1, ((7, 0), 'left'): -1, ((7, 0), 'right'): -1, ((7, 1), 'up'): -1, ((7, 1), 'down'): -1, ((7, 1), 'left'): -1, ((7, 1), 'right'): -1, ((7, 2), 'up'): -1, ((7, 2), 'down'): -1, ((7, 2), 'left'): -1, ((7, 2), 'right'): -1, ((7, 3), 'up'): -1, ((7, 3), 'down'): -1, ((7, 3), 'left'): -1, ((7, 3), 'right'): -1, ((7, 4), 'up'): -6, ((7, 4), 'down'): -6, ((7, 4), 'left'): -6, ((7, 4), 'right'): -6, ((7, 5), 'up'): -1, ((7, 5), 'down'): -1, ((7, 5), 'left'): -1, ((7, 5), 'right'): -1, ((7, 6), 'up'): -6, ((7, 6), 'down'): -6, ((7, 6), 'left'): -6, ((7, 6), 'right'): -6, ((7, 7), 'up'): -1, ((7, 7), 'down'): -1, ((7, 7), 'left'): -1, ((7, 7), 'right'): -1, ((7, 8), 'up'): -1, ((7, 8), 'down'): -1, ((7, 8), 'left'): -1, ((7, 8), 'right'): -1, ((7, 9), 'up'): -1, ((7, 9), 'down'): -1, ((7, 9), 'left'): -1, ((7, 9), 'right'): -1, ((8, 0), 'up'): -1, ((8, 0), 'down'): -1, ((8, 0), 'left'): -1, ((8, 0), 'right'): -1, ((8, 1), 'up'): -1, ((8, 1), 'down'): -1, ((8, 1), 'left'): -1, ((8, 1), 'right'): -1, ((8, 2), 'up'): -6, ((8, 2), 'down'): -6, ((8, 2), 'left'): -6, ((8, 2), 'right'): -6, ((8, 3), 'up'): -1, ((8, 3), 'down'): -1, ((8, 3), 'left'): -1, ((8, 3), 'right'): -1, ((8, 4), 'up'): -1, ((8, 4), 'down'): -1, ((8, 4), 'left'): -1, ((8, 4), 'right'): -1, ((8, 5), 'up'): -1, ((8, 5), 'down'): -1, ((8, 5), 'left'): -1, ((8, 5), 'right'): -1, ((8, 6), 'up'): -1, ((8, 6), 'down'): -1, ((8, 6), 'left'): -1, ((8, 6), 'right'): -1, ((8, 7), 'up'): -1, ((8, 7), 'down'): -1, ((8, 7), 'left'): -1, ((8, 7), 'right'): -1, ((8, 8), 'up'): -1, ((8, 8), 'down'): -1, ((8, 8), 'left'): -1, ((8, 8), 'right'): -1, ((8, 9), 'up'): -6, ((8, 9), 'down'): -6, ((8, 9), 'left'): -6, ((8, 9), 'right'): -6, ((9, 0), 'up'): -1, ((9, 0), 'down'): -1, ((9, 0), 'left'): -1, ((9, 0), 'right'): -1, ((9, 1), 'up'): -1, ((9, 1), 'down'): -1, ((9, 1), 'left'): -1, ((9, 1), 'right'): -1, ((9, 2), 'up'): -1, ((9, 2), 'down'): -1, ((9, 2), 'left'): -1, ((9, 2), 'right'): -1, ((9, 3), 'up'): -1, ((9, 3), 'down'): -1, ((9, 3), 'left'): -1, ((9, 3), 'right'): -1, ((9, 4), 'up'): -1, ((9, 4), 'down'): -1, ((9, 4), 'left'): -1, ((9, 4), 'right'): -1, ((9, 5), 'up'): -1, ((9, 5), 'down'): -1, ((9, 5), 'left'): -1, ((9, 5), 'right'): -1, ((9, 6), 'up'): -6, ((9, 6), 'down'): -6, ((9, 6), 'left'): -6, ((9, 6), 'right'): -6, ((9, 7), 'up'): -1, ((9, 7), 'down'): -1, ((9, 7), 'left'): -1, ((9, 7), 'right'): -1, ((9, 8), 'up'): -1, ((9, 8), 'down'): -1, ((9, 8), 'left'): -1, ((9, 8), 'right'): -1, ((9, 9), 'up'): -1, ((9, 9), 'down'): -1, ((9, 9), 'left'): -1, ((9, 9), 'right'): -1, ((9, 9), 'deliver'): 10}\n"
     ]
    }
   ],
   "source": [
    "# Definição da função de recompensa com \"living penalty\"\n",
    "reward_function = {}\n",
    "for state in states:\n",
    "    for action in actions:\n",
    "        reward = -1  # Penalização padrão por cada ação de movimento\n",
    "        # Ajuste a penalização para estados próximos aos obstáculos para incentivar o agente a evitá-los\n",
    "        if state in [(0,5), (1,1), (1,7), (2,4), (2,0), (3,8), (3,3), (4,3), (4,5), (5,1), (5,6), (6,0), (6,5), (7,4), (7,6), (8,2), (8,9), (9,6)] and action != \"deliver\":\n",
    "            reward -= 5\n",
    "        reward_function[(state, action)] = reward\n",
    "    # Define recompensa alta para estados de entrega bem-sucedida\n",
    "    if state == (9, 9):\n",
    "        reward_function[(state, \"deliver\")] = 10\n",
    "\n",
    "print(reward_function)"
   ]
  },
  {
   "cell_type": "markdown",
   "metadata": {},
   "source": [
    "## 6 - Treinamento e avaliação\n",
    "\n",
    "  * Treine o agente usando um algoritmo de aprendizado por reforço, como o Q-Learning, e avalie seu desempenho em termos de eficiência na entrega de pacotes."
   ]
  },
  {
   "cell_type": "code",
   "execution_count": 16,
   "metadata": {},
   "outputs": [
    {
     "data": {
      "text/plain": [
       "100"
      ]
     },
     "execution_count": 16,
     "metadata": {},
     "output_type": "execute_result"
    }
   ],
   "source": [
    "num_episodes = 100  # Número de episódios para avaliação\n",
    "num_episodes"
   ]
  },
  {
   "cell_type": "code",
   "execution_count": 17,
   "metadata": {},
   "outputs": [
    {
     "data": {
      "text/plain": [
       "0"
      ]
     },
     "execution_count": 17,
     "metadata": {},
     "output_type": "execute_result"
    }
   ],
   "source": [
    "success_count = 0  # Contador de entregas bem-sucedidas\n",
    "success_count"
   ]
  },
  {
   "cell_type": "code",
   "execution_count": 18,
   "metadata": {},
   "outputs": [
    {
     "data": {
      "text/plain": [
       "0"
      ]
     },
     "execution_count": 18,
     "metadata": {},
     "output_type": "execute_result"
    }
   ],
   "source": [
    "total_delivery_time = 0  # Tempo total de entrega\n",
    "total_delivery_time"
   ]
  },
  {
   "cell_type": "code",
   "execution_count": 20,
   "metadata": {},
   "outputs": [
    {
     "ename": "KeyboardInterrupt",
     "evalue": "",
     "output_type": "error",
     "traceback": [
      "\u001b[1;31m---------------------------------------------------------------------------\u001b[0m",
      "\u001b[1;31mKeyboardInterrupt\u001b[0m                         Traceback (most recent call last)",
      "\u001b[1;32mc:\\Git\\MBA\\3DTS-ReinforcementLearning\\Projeto Final\\RL_AtividadeFinal.ipynb Cell 31\u001b[0m line \u001b[0;36m7\n\u001b[0;32m      <a href='vscode-notebook-cell:/c%3A/Git/MBA/3DTS-ReinforcementLearning/Projeto%20Final/RL_AtividadeFinal.ipynb#X42sZmlsZQ%3D%3D?line=2'>3</a>\u001b[0m delivery_time \u001b[39m=\u001b[39m \u001b[39m0\u001b[39m\n\u001b[0;32m      <a href='vscode-notebook-cell:/c%3A/Git/MBA/3DTS-ReinforcementLearning/Projeto%20Final/RL_AtividadeFinal.ipynb#X42sZmlsZQ%3D%3D?line=4'>5</a>\u001b[0m \u001b[39mwhile\u001b[39;00m state \u001b[39m!=\u001b[39m (\u001b[39m9\u001b[39m, \u001b[39m9\u001b[39m):  \u001b[39m# Enquanto o agente não entregar o pacote com sucesso\u001b[39;00m\n\u001b[0;32m      <a href='vscode-notebook-cell:/c%3A/Git/MBA/3DTS-ReinforcementLearning/Projeto%20Final/RL_AtividadeFinal.ipynb#X42sZmlsZQ%3D%3D?line=5'>6</a>\u001b[0m     \u001b[39m# Escolha a ação com base na política aprendida (não ε-greedy durante a avaliação)\u001b[39;00m\n\u001b[1;32m----> <a href='vscode-notebook-cell:/c%3A/Git/MBA/3DTS-ReinforcementLearning/Projeto%20Final/RL_AtividadeFinal.ipynb#X42sZmlsZQ%3D%3D?line=6'>7</a>\u001b[0m     action \u001b[39m=\u001b[39m actions[np\u001b[39m.\u001b[39;49margmax(q_table[states\u001b[39m.\u001b[39;49mindex(state)])]\n\u001b[0;32m      <a href='vscode-notebook-cell:/c%3A/Git/MBA/3DTS-ReinforcementLearning/Projeto%20Final/RL_AtividadeFinal.ipynb#X42sZmlsZQ%3D%3D?line=8'>9</a>\u001b[0m     \u001b[39m# Realize a ação e observe o novo estado\u001b[39;00m\n\u001b[0;32m     <a href='vscode-notebook-cell:/c%3A/Git/MBA/3DTS-ReinforcementLearning/Projeto%20Final/RL_AtividadeFinal.ipynb#X42sZmlsZQ%3D%3D?line=9'>10</a>\u001b[0m     next_state \u001b[39m=\u001b[39m transition_function[(state, action)]\n",
      "File \u001b[1;32mc:\\Users\\ersju\\Envs\\fiap\\Lib\\site-packages\\numpy\\core\\fromnumeric.py:1229\u001b[0m, in \u001b[0;36margmax\u001b[1;34m(a, axis, out, keepdims)\u001b[0m\n\u001b[0;32m   1142\u001b[0m \u001b[39m\u001b[39m\u001b[39m\"\"\"\u001b[39;00m\n\u001b[0;32m   1143\u001b[0m \u001b[39mReturns the indices of the maximum values along an axis.\u001b[39;00m\n\u001b[0;32m   1144\u001b[0m \n\u001b[1;32m   (...)\u001b[0m\n\u001b[0;32m   1226\u001b[0m \u001b[39m(2, 1, 4)\u001b[39;00m\n\u001b[0;32m   1227\u001b[0m \u001b[39m\"\"\"\u001b[39;00m\n\u001b[0;32m   1228\u001b[0m kwds \u001b[39m=\u001b[39m {\u001b[39m'\u001b[39m\u001b[39mkeepdims\u001b[39m\u001b[39m'\u001b[39m: keepdims} \u001b[39mif\u001b[39;00m keepdims \u001b[39mis\u001b[39;00m \u001b[39mnot\u001b[39;00m np\u001b[39m.\u001b[39m_NoValue \u001b[39melse\u001b[39;00m {}\n\u001b[1;32m-> 1229\u001b[0m \u001b[39mreturn\u001b[39;00m _wrapfunc(a, \u001b[39m'\u001b[39;49m\u001b[39margmax\u001b[39;49m\u001b[39m'\u001b[39;49m, axis\u001b[39m=\u001b[39;49maxis, out\u001b[39m=\u001b[39;49mout, \u001b[39m*\u001b[39;49m\u001b[39m*\u001b[39;49mkwds)\n",
      "File \u001b[1;32mc:\\Users\\ersju\\Envs\\fiap\\Lib\\site-packages\\numpy\\core\\fromnumeric.py:59\u001b[0m, in \u001b[0;36m_wrapfunc\u001b[1;34m(obj, method, *args, **kwds)\u001b[0m\n\u001b[0;32m     56\u001b[0m     \u001b[39mreturn\u001b[39;00m _wrapit(obj, method, \u001b[39m*\u001b[39margs, \u001b[39m*\u001b[39m\u001b[39m*\u001b[39mkwds)\n\u001b[0;32m     58\u001b[0m \u001b[39mtry\u001b[39;00m:\n\u001b[1;32m---> 59\u001b[0m     \u001b[39mreturn\u001b[39;00m bound(\u001b[39m*\u001b[39;49margs, \u001b[39m*\u001b[39;49m\u001b[39m*\u001b[39;49mkwds)\n\u001b[0;32m     60\u001b[0m \u001b[39mexcept\u001b[39;00m \u001b[39mTypeError\u001b[39;00m:\n\u001b[0;32m     61\u001b[0m     \u001b[39m# A TypeError occurs if the object does have such a method in its\u001b[39;00m\n\u001b[0;32m     62\u001b[0m     \u001b[39m# class, but its signature is not identical to that of NumPy's. This\u001b[39;00m\n\u001b[1;32m   (...)\u001b[0m\n\u001b[0;32m     66\u001b[0m     \u001b[39m# Call _wrapit from within the except clause to ensure a potential\u001b[39;00m\n\u001b[0;32m     67\u001b[0m     \u001b[39m# exception has a traceback chain.\u001b[39;00m\n\u001b[0;32m     68\u001b[0m     \u001b[39mreturn\u001b[39;00m _wrapit(obj, method, \u001b[39m*\u001b[39margs, \u001b[39m*\u001b[39m\u001b[39m*\u001b[39mkwds)\n",
      "\u001b[1;31mKeyboardInterrupt\u001b[0m: "
     ]
    }
   ],
   "source": [
    "for episode in range(num_episodes):\n",
    "    state = (0, 0)  # Estado inicial\n",
    "    delivery_time = 0\n",
    "\n",
    "    while state != (9, 9):  # Enquanto o agente não entregar o pacote com sucesso\n",
    "        # Escolha a ação com base na política aprendida (não ε-greedy durante a avaliação)\n",
    "        action = actions[np.argmax(q_table[states.index(state)])]\n",
    "\n",
    "        # Realize a ação e observe o novo estado\n",
    "        next_state = transition_function[(state, action)]\n",
    "\n",
    "        state = next_state  # Atualize o estado para o próximo\n",
    "        delivery_time += 1\n",
    "\n",
    "    if state == (9, 9):  # Entrega bem-sucedida\n",
    "        success_count += 1\n",
    "        total_delivery_time += delivery_time"
   ]
  },
  {
   "cell_type": "code",
   "execution_count": null,
   "metadata": {},
   "outputs": [],
   "source": [
    "# Cálculo das estatísticas\n",
    "average_delivery_time = total_delivery_time / success_count\n",
    "success_rate = success_count / num_episodes"
   ]
  },
  {
   "cell_type": "code",
   "execution_count": null,
   "metadata": {},
   "outputs": [],
   "source": [
    "print(\"Tempo médio de entrega:\", average_delivery_time)\n",
    "print(\"Taxa de sucesso na entrega:\", success_rate)"
   ]
  }
 ],
 "metadata": {
  "kernelspec": {
   "display_name": "fiap",
   "language": "python",
   "name": "python3"
  },
  "language_info": {
   "codemirror_mode": {
    "name": "ipython",
    "version": 3
   },
   "file_extension": ".py",
   "mimetype": "text/x-python",
   "name": "python",
   "nbconvert_exporter": "python",
   "pygments_lexer": "ipython3",
   "version": "3.11.5"
  }
 },
 "nbformat": 4,
 "nbformat_minor": 2
}
