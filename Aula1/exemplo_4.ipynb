{
 "cells": [
  {
   "cell_type": "markdown",
   "metadata": {},
   "source": [
    "# Exemplo 3  - Taxi\n",
    "\n",
    "Existem quatro locais designados na grade indicados por R(ed), G(reen), Y(ellow) e B(lue).  Quando o episódio começa, o táxi parte em um quadrado aleatório e o passageiro está em um local aleatório.  O táxi dirige até o local do passageiro, pega o passageiro, dirige até o destino do passageiro (outro dos quatro locais especificados) e então deixa o passageiro.  Assim que o passageiro é deixado, o episódio termina.\n",
    "\n",
    "\n",
    "## Ações\n",
    "\n",
    " Existem 6 ações determinísticas discretas:\n",
    "\n",
    "     0: mover para o sul\n",
    "\n",
    "     1: mover para o norte\n",
    "\n",
    "     2: mover para o leste\n",
    "\n",
    "     3: mover para o oeste\n",
    "\n",
    "     4: passageiro de coleta\n",
    "\n",
    "     5: deixar o passageiro\n",
    "\n",
    "\n",
    "## Observações\n",
    "\n",
    " Existem 500 estados discretos, pois existem 25 posições de táxi, 5 localizações possíveis do passageiro (incluindo o caso em que o passageiro está no táxi) e 4 localizações de destino.\n",
    "\n",
    " Observe que existem 400 estados que podem ser alcançados durante um episódio.  Os estados ausentes correspondem a situações em que o passageiro está no mesmo local de seu destino, pois isso normalmente sinaliza o fim de um episódio.  Quatro estados adicionais podem ser observados logo após episódios de sucesso, quando tanto o passageiro quanto o táxi estão no destino.  Isso dá um total de 404 estados discretos alcançáveis.\n",
    "\n",
    " Cada espaço de estado é representado pela tupla: (taxi_row, taxi_col, passage_location, destination)\n",
    "\n",
    " Uma observação é um número inteiro que codifica o estado correspondente.  A tupla de estado pode então ser decodificada com o método “decode”.\n",
    "\n",
    " Localização dos passageiros:\n",
    "\n",
    "     0: R(ed)\n",
    "\n",
    "     1: G(real)\n",
    "\n",
    "     2: Y (amarelo)\n",
    "\n",
    "     3: B(lue)\n",
    "\n",
    "     4: no táxi\n",
    "\n",
    " Destinos:\n",
    "\n",
    "     0: R(ed)\n",
    "\n",
    "     1: G(real)\n",
    "\n",
    "     2: Y (amarelo)\n",
    "\n",
    "     3: B(lue)\n",
    "\n",
    "## Recompensas\n",
    "\n",
    " -1 por passo, a menos que outra recompensa seja acionada.\n",
    "\n",
    " +20 entregando passageiros.\n",
    "\n",
    " -10 executar ações de “pegar” e “devolver” ilegalmente."
   ]
  },
  {
   "cell_type": "code",
   "execution_count": 1,
   "metadata": {},
   "outputs": [],
   "source": [
    "# Importando as bibliotécas necessárias\n",
    "import gym\n",
    "import time\n",
    "\n",
    "# Criando o ambiente Taxi-v3 com o renderização visual\n",
    "env = gym.make(\"Taxi-v3\", render_mode='human')"
   ]
  },
  {
   "cell_type": "code",
   "execution_count": 2,
   "metadata": {},
   "outputs": [
    {
     "name": "stdout",
     "output_type": "stream",
     "text": [
      "Discrete(500)\n",
      "Discrete(6)\n"
     ]
    }
   ],
   "source": [
    "# Observation space - states\n",
    "print(env.observation_space)\n",
    "\n",
    "# Action: left=0, down=1, right=2, up=3\n",
    "print(env.action_space)"
   ]
  },
  {
   "cell_type": "code",
   "execution_count": 3,
   "metadata": {},
   "outputs": [
    {
     "name": "stdout",
     "output_type": "stream",
     "text": [
      "Estado inicial do sistema\n"
     ]
    }
   ],
   "source": [
    "# Reiniciando o ambiente e exibindo o estaod inicial\n",
    "env.reset()\n",
    "env.render()\n",
    "\n",
    "print('Estado inicial do sistema')"
   ]
  },
  {
   "cell_type": "code",
   "execution_count": 4,
   "metadata": {},
   "outputs": [],
   "source": [
    "# Definindo o número de iterações\n",
    "numberOfIterations = 15"
   ]
  },
  {
   "cell_type": "code",
   "execution_count": 5,
   "metadata": {},
   "outputs": [
    {
     "name": "stderr",
     "output_type": "stream",
     "text": [
      "c:\\Users\\ersju\\Envs\\fiap\\Lib\\site-packages\\gym\\utils\\passive_env_checker.py:233: DeprecationWarning: `np.bool8` is a deprecated alias for `np.bool_`.  (Deprecated NumPy 1.24)\n",
      "  if not isinstance(terminated, (bool, np.bool8)):\n"
     ]
    },
    {
     "data": {
      "text/plain": [
       "(234,\n",
       " -10,\n",
       " False,\n",
       " False,\n",
       " {'prob': 1.0, 'action_mask': array([1, 1, 1, 1, 0, 0], dtype=int8)})"
      ]
     },
     "execution_count": 5,
     "metadata": {},
     "output_type": "execute_result"
    }
   ],
   "source": [
    "randomAction = env.action_space.sample()\n",
    "env.step(randomAction)"
   ]
  },
  {
   "cell_type": "code",
   "execution_count": 6,
   "metadata": {},
   "outputs": [
    {
     "name": "stdout",
     "output_type": "stream",
     "text": [
      "Iteração: 1, ação 0 resultou em: (334, -1, False, False, {'prob': 1.0, 'action_mask': array([1, 1, 1, 0, 0, 0], dtype=int8)})\n",
      "Iteração: 2, ação 3 resultou em: (334, -1, False, False, {'prob': 1.0, 'action_mask': array([1, 1, 1, 0, 0, 0], dtype=int8)})\n",
      "Iteração: 3, ação 5 resultou em: (334, -10, False, False, {'prob': 1.0, 'action_mask': array([1, 1, 1, 0, 0, 0], dtype=int8)})\n",
      "Iteração: 4, ação 0 resultou em: (434, -1, False, False, {'prob': 1.0, 'action_mask': array([0, 1, 1, 0, 0, 0], dtype=int8)})\n",
      "Iteração: 5, ação 0 resultou em: (434, -1, False, False, {'prob': 1.0, 'action_mask': array([0, 1, 1, 0, 0, 0], dtype=int8)})\n",
      "Iteração: 6, ação 1 resultou em: (334, -1, False, False, {'prob': 1.0, 'action_mask': array([1, 1, 1, 0, 0, 0], dtype=int8)})\n",
      "Iteração: 7, ação 3 resultou em: (334, -1, False, False, {'prob': 1.0, 'action_mask': array([1, 1, 1, 0, 0, 0], dtype=int8)})\n",
      "Iteração: 8, ação 4 resultou em: (334, -10, False, False, {'prob': 1.0, 'action_mask': array([1, 1, 1, 0, 0, 0], dtype=int8)})\n",
      "Iteração: 9, ação 1 resultou em: (234, -1, False, False, {'prob': 1.0, 'action_mask': array([1, 1, 1, 1, 0, 0], dtype=int8)})\n",
      "Iteração: 10, ação 1 resultou em: (134, -1, False, False, {'prob': 1.0, 'action_mask': array([1, 1, 0, 1, 0, 0], dtype=int8)})\n",
      "Iteração: 11, ação 0 resultou em: (234, -1, False, False, {'prob': 1.0, 'action_mask': array([1, 1, 1, 1, 0, 0], dtype=int8)})\n",
      "Iteração: 12, ação 2 resultou em: (254, -1, False, False, {'prob': 1.0, 'action_mask': array([1, 1, 1, 1, 0, 0], dtype=int8)})\n",
      "Iteração: 13, ação 0 resultou em: (354, -1, False, False, {'prob': 1.0, 'action_mask': array([1, 1, 0, 1, 0, 0], dtype=int8)})\n",
      "Iteração: 14, ação 5 resultou em: (354, -10, False, False, {'prob': 1.0, 'action_mask': array([1, 1, 0, 1, 0, 0], dtype=int8)})\n",
      "Iteração: 15, ação 4 resultou em: (354, -10, False, False, {'prob': 1.0, 'action_mask': array([1, 1, 0, 1, 0, 0], dtype=int8)})\n"
     ]
    }
   ],
   "source": [
    "# Executando interações com o ambiente\n",
    "for i in range(numberOfIterations):\n",
    "    # Gerando uma ação aleatória do espaço de ação\n",
    "    randomAction = env.action_space.sample()\n",
    "\n",
    "    # Executando a ação no ambiente e obtendo informações\n",
    "    observation, reward, terminated, truncated, info = env.step(randomAction)\n",
    "\n",
    "    # Exibindo o ambiente renderizado\n",
    "    env.render()\n",
    "\n",
    "    # Exibindo informações sobre iteração\n",
    "    print(f'Iteração: {i+1}, ação {randomAction} resultou em: {observation, reward, terminated, truncated, info}')\n",
    "\n",
    "    # Aguardando por um curto período de tempo\n",
    "    time.sleep(1)\n",
    "\n",
    "    # Verificando se o episódio foi concluído\n",
    "    if terminated:\n",
    "        break\n",
    "    "
   ]
  },
  {
   "cell_type": "code",
   "execution_count": 7,
   "metadata": {},
   "outputs": [],
   "source": [
    "env.close()"
   ]
  }
 ],
 "metadata": {
  "kernelspec": {
   "display_name": "env_AR",
   "language": "python",
   "name": "python3"
  },
  "language_info": {
   "codemirror_mode": {
    "name": "ipython",
    "version": 3
   },
   "file_extension": ".py",
   "mimetype": "text/x-python",
   "name": "python",
   "nbconvert_exporter": "python",
   "pygments_lexer": "ipython3",
   "version": "3.11.5"
  },
  "orig_nbformat": 4
 },
 "nbformat": 4,
 "nbformat_minor": 2
}
