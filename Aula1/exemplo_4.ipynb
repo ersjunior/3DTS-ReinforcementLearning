{
 "cells": [
  {
   "cell_type": "markdown",
   "metadata": {},
   "source": [
    "# Exemplo 3  - Taxi\n",
    "\n",
    "Existem quatro locais designados na grade indicados por R(ed), G(reen), Y(ellow) e B(lue).  Quando o episódio começa, o táxi parte em um quadrado aleatório e o passageiro está em um local aleatório.  O táxi dirige até o local do passageiro, pega o passageiro, dirige até o destino do passageiro (outro dos quatro locais especificados) e então deixa o passageiro.  Assim que o passageiro é deixado, o episódio termina.\n",
    "\n",
    "\n",
    "## Ações\n",
    "\n",
    " Existem 6 ações determinísticas discretas:\n",
    "\n",
    "     0: mover para o sul\n",
    "\n",
    "     1: mover para o norte\n",
    "\n",
    "     2: mover para o leste\n",
    "\n",
    "     3: mover para o oeste\n",
    "\n",
    "     4: passageiro de coleta\n",
    "\n",
    "     5: deixar o passageiro\n",
    "\n",
    "\n",
    "## Observações\n",
    "\n",
    " Existem 500 estados discretos, pois existem 25 posições de táxi, 5 localizações possíveis do passageiro (incluindo o caso em que o passageiro está no táxi) e 4 localizações de destino.\n",
    "\n",
    " Observe que existem 400 estados que podem ser alcançados durante um episódio.  Os estados ausentes correspondem a situações em que o passageiro está no mesmo local de seu destino, pois isso normalmente sinaliza o fim de um episódio.  Quatro estados adicionais podem ser observados logo após episódios de sucesso, quando tanto o passageiro quanto o táxi estão no destino.  Isso dá um total de 404 estados discretos alcançáveis.\n",
    "\n",
    " Cada espaço de estado é representado pela tupla: (taxi_row, taxi_col, passage_location, destination)\n",
    "\n",
    " Uma observação é um número inteiro que codifica o estado correspondente.  A tupla de estado pode então ser decodificada com o método “decode”.\n",
    "\n",
    " Localização dos passageiros:\n",
    "\n",
    "     0: R(ed)\n",
    "\n",
    "     1: G(real)\n",
    "\n",
    "     2: Y (amarelo)\n",
    "\n",
    "     3: B(lue)\n",
    "\n",
    "     4: no táxi\n",
    "\n",
    " Destinos:\n",
    "\n",
    "     0: R(ed)\n",
    "\n",
    "     1: G(real)\n",
    "\n",
    "     2: Y (amarelo)\n",
    "\n",
    "     3: B(lue)\n",
    "\n",
    "## Recompensas\n",
    "\n",
    " -1 por passo, a menos que outra recompensa seja acionada.\n",
    "\n",
    " +20 entregando passageiros.\n",
    "\n",
    " -10 executar ações de “pegar” e “devolver” ilegalmente."
   ]
  },
  {
   "cell_type": "code",
   "execution_count": 15,
   "metadata": {},
   "outputs": [],
   "source": []
  },
  {
   "cell_type": "code",
   "execution_count": 16,
   "metadata": {},
   "outputs": [
    {
     "name": "stdout",
     "output_type": "stream",
     "text": [
      "Discrete(500)\n",
      "Discrete(6)\n"
     ]
    }
   ],
   "source": []
  },
  {
   "cell_type": "code",
   "execution_count": 17,
   "metadata": {},
   "outputs": [
    {
     "name": "stdout",
     "output_type": "stream",
     "text": [
      "Estado inicial do sistema\n"
     ]
    }
   ],
   "source": []
  },
  {
   "cell_type": "code",
   "execution_count": 18,
   "metadata": {},
   "outputs": [],
   "source": []
  },
  {
   "cell_type": "code",
   "execution_count": 19,
   "metadata": {},
   "outputs": [
    {
     "data": {
      "text/plain": [
       "(211,\n",
       " -10,\n",
       " False,\n",
       " False,\n",
       " {'prob': 1.0, 'action_mask': array([1, 1, 1, 0, 0, 0], dtype=int8)})"
      ]
     },
     "execution_count": 19,
     "metadata": {},
     "output_type": "execute_result"
    }
   ],
   "source": []
  },
  {
   "cell_type": "code",
   "execution_count": 20,
   "metadata": {},
   "outputs": [
    {
     "name": "stdout",
     "output_type": "stream",
     "text": [
      "Iteração: 1, ação 1 resultou em: (111, -1, False, False, {'prob': 1.0, 'action_mask': array([1, 1, 1, 0, 0, 0], dtype=int8)}) \n",
      "Iteração: 2, ação 0 resultou em: (211, -1, False, False, {'prob': 1.0, 'action_mask': array([1, 1, 1, 0, 0, 0], dtype=int8)}) \n",
      "Iteração: 3, ação 0 resultou em: (311, -1, False, False, {'prob': 1.0, 'action_mask': array([1, 1, 0, 0, 0, 0], dtype=int8)}) \n",
      "Iteração: 4, ação 5 resultou em: (311, -10, False, False, {'prob': 1.0, 'action_mask': array([1, 1, 0, 0, 0, 0], dtype=int8)}) \n",
      "Iteração: 5, ação 2 resultou em: (311, -1, False, False, {'prob': 1.0, 'action_mask': array([1, 1, 0, 0, 0, 0], dtype=int8)}) \n"
     ]
    }
   ],
   "source": []
  },
  {
   "cell_type": "code",
   "execution_count": 21,
   "metadata": {},
   "outputs": [],
   "source": []
  }
 ],
 "metadata": {
  "kernelspec": {
   "display_name": "env_AR",
   "language": "python",
   "name": "python3"
  },
  "language_info": {
   "codemirror_mode": {
    "name": "ipython",
    "version": 3
   },
   "file_extension": ".py",
   "mimetype": "text/x-python",
   "name": "python",
   "nbconvert_exporter": "python",
   "pygments_lexer": "ipython3",
   "version": "3.9.11"
  },
  "orig_nbformat": 4
 },
 "nbformat": 4,
 "nbformat_minor": 2
}
