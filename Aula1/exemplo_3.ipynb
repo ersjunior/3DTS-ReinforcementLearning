{
 "cells": [
  {
   "cell_type": "markdown",
   "metadata": {},
   "source": [
    "# Exemplo 3 - Frozen Lake politica deterministica\n",
    "\n"
   ]
  },
  {
   "cell_type": "code",
   "execution_count": 85,
   "metadata": {},
   "outputs": [
    {
     "name": "stdout",
     "output_type": "stream",
     "text": [
      "Ação 2 resultou em: (0, 0.0, False, False, {'prob': 0.3333333333333333}) \n"
     ]
    }
   ],
   "source": [
    "# Importando bibliotecas necessarias\n",
    "import gym\n",
    "import time\n",
    "\n",
    "# Criando o ambiente FrozenLake-v1 com renderização visual\n",
    "env = gym.make(\"FrozenLake-v1\", render_mode='human')\n",
    "\n",
    "# Reiniciando o ambiente e exibindo o estado inicial\n",
    "env.reset()\n",
    "env.render()\n",
    "\n",
    "# Definindo uma política determinística (sempre escolhendo \"right\")\n",
    "deterministicAction = 2 # 2 representa a ação \"right\" no espaço de ação\n",
    "\n",
    "# Executando a ação determinística no ambiente e obtendo informações    \n",
    "observation, reward, terminated, truncated, info = env.step(deterministicAction)\n",
    "env.render()\n",
    "print(f'Ação {deterministicAction} resultou em: {observation, reward, terminated, truncated, info} ')\n",
    "\n",
    "time.sleep(1)\n",
    "\n",
    "# Fechando o ambiente\n",
    "env.close()"
   ]
  },
  {
   "cell_type": "markdown",
   "metadata": {},
   "source": [
    "# Exercicio Politica deterministica:\n",
    "\n",
    "Faça o código que garanta a vitória do agente, ou seja, faça os comandos necessários para que o agente chegue ao seu objetivo."
   ]
  },
  {
   "cell_type": "code",
   "execution_count": 87,
   "metadata": {},
   "outputs": [
    {
     "name": "stdout",
     "output_type": "stream",
     "text": [
      "Iteração: 1, Ação 2 resultou em: (4, 0.0, False, False, {'prob': 0.3333333333333333})\n",
      "Iteração: 2, Ação 1 resultou em: (8, 0.0, False, False, {'prob': 0.3333333333333333})\n",
      "Iteração: 3, Ação 2 resultou em: (4, 0.0, False, False, {'prob': 0.3333333333333333})\n",
      "Iteração: 4, Ação 1 resultou em: (0, 0.0, False, False, {'prob': 0.3333333333333333})\n",
      "Iteração: 5, Ação 2 resultou em: (0, 0.0, False, False, {'prob': 0.3333333333333333})\n",
      "Iteração: 6, Ação 3 resultou em: (4, 0.0, False, False, {'prob': 0.3333333333333333})\n"
     ]
    }
   ],
   "source": [
    "# Importando bibliotecas necessarias\n",
    "import gym\n",
    "import time\n",
    "\n",
    "# Criando o ambiente FrozenLake-v1 com renderização visual\n",
    "env = gym.make(\"FrozenLake-v1\", render_mode='human')\n",
    "\n",
    "# Reiniciando o ambiente e exibindo o estado inicial\n",
    "env.reset()\n",
    "env.render()\n",
    "\n",
    "# Definindo uma política determinística (sempre escolhendo \"right\")\n",
    "numberOfIterations = 6\n",
    "deterministicAction = 2 # 2 representa a ação \"right\" no espaço de ação\n",
    "\n",
    "# Executando interações com o ambiente\n",
    "for i in range(numberOfIterations):\n",
    "    # Gerando uma ação aleatória do espaço de ação\n",
    "    randomAction = env.action_space.sample()\n",
    "\n",
    "    # Executando a ação no ambiente e obtendo informações\n",
    "    observation, reward, terminated, truncated, info = env.step(deterministicAction)\n",
    "\n",
    "    # Exibindo o ambiente renderizado\n",
    "    env.render()\n",
    "\n",
    "    # Exibindo informações sobre a iteração\n",
    "    print(f'Iteração: {i+1}, Ação {randomAction} resultou em: {observation, reward, terminated, truncated, info }')\n",
    "\n",
    "    # Aguardando por um curto período de tempo\n",
    "    time.sleep(0.5)\n",
    "\n",
    "    # Verificando se o episódio foi concluído\n",
    "    if terminated:\n",
    "        env.reset()\n",
    "    \n",
    "    if truncated:\n",
    "        env.close()\n",
    "\n",
    "# Fechando o ambiente\n",
    "env.close()"
   ]
  }
 ],
 "metadata": {
  "kernelspec": {
   "display_name": "env_AR",
   "language": "python",
   "name": "python3"
  },
  "language_info": {
   "codemirror_mode": {
    "name": "ipython",
    "version": 3
   },
   "file_extension": ".py",
   "mimetype": "text/x-python",
   "name": "python",
   "nbconvert_exporter": "python",
   "pygments_lexer": "ipython3",
   "version": "3.11.5"
  },
  "orig_nbformat": 4
 },
 "nbformat": 4,
 "nbformat_minor": 2
}
