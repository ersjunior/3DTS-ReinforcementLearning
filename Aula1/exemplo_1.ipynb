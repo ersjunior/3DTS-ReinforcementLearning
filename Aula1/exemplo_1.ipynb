{
 "cells": [
  {
   "cell_type": "markdown",
   "metadata": {},
   "source": [
    "# Aprendizado por Reforço - Exemplo 1\n",
    "\n",
    "Primeiro, importe as bibliotecas necessárias e crie o ambiente \"LunarLander-v2\" com renderização visual:"
   ]
  },
  {
   "cell_type": "code",
   "execution_count": 2,
   "metadata": {},
   "outputs": [
    {
     "ename": "ModuleNotFoundError",
     "evalue": "No module named 'gym'",
     "output_type": "error",
     "traceback": [
      "\u001b[1;31m---------------------------------------------------------------------------\u001b[0m",
      "\u001b[1;31mModuleNotFoundError\u001b[0m                       Traceback (most recent call last)",
      "\u001b[1;32mc:\\Git\\MBA\\3DTS-ReinforcementLearning\\Aula1\\exemplo_1.ipynb Cell 2\u001b[0m line \u001b[0;36m1\n\u001b[1;32m----> <a href='vscode-notebook-cell:/c%3A/Git/MBA/3DTS-ReinforcementLearning/Aula1/exemplo_1.ipynb#W1sZmlsZQ%3D%3D?line=0'>1</a>\u001b[0m \u001b[39mimport\u001b[39;00m \u001b[39mgym\u001b[39;00m\n\u001b[0;32m      <a href='vscode-notebook-cell:/c%3A/Git/MBA/3DTS-ReinforcementLearning/Aula1/exemplo_1.ipynb#W1sZmlsZQ%3D%3D?line=2'>3</a>\u001b[0m env \u001b[39m=\u001b[39m gym\u001b[39m.\u001b[39mmake(\u001b[39m\"\u001b[39m\u001b[39mLunarLander-v2\u001b[39m\u001b[39m\"\u001b[39m, render_mode\u001b[39m=\u001b[39m\u001b[39m\"\u001b[39m\u001b[39mhuman\u001b[39m\u001b[39m\"\u001b[39m)\n\u001b[0;32m      <a href='vscode-notebook-cell:/c%3A/Git/MBA/3DTS-ReinforcementLearning/Aula1/exemplo_1.ipynb#W1sZmlsZQ%3D%3D?line=3'>4</a>\u001b[0m env\u001b[39m.\u001b[39maction_space\u001b[39m.\u001b[39mseed(\u001b[39m42\u001b[39m)\n",
      "\u001b[1;31mModuleNotFoundError\u001b[0m: No module named 'gym'"
     ]
    }
   ],
   "source": [
    "import gym\n",
    "\n",
    "env = gym.make(\"LunarLander-v2\", render_mode=\"human\")\n",
    "env.action_space.seed(42)"
   ]
  },
  {
   "cell_type": "markdown",
   "metadata": {},
   "source": [
    "Aqui, usamos a biblioteca Gym para criar o ambiente \"LunarLander-v2\" e definimos o modo de renderização como \"human\", o que nos permite visualizar a simulação interativamente. Além disso, definimos a semente para o espaço de ação para garantir a reprodutibilidade dos resultados.\n",
    "\n",
    "Agora, inicialize a observação inicial e outras variáveis necessárias:"
   ]
  },
  {
   "cell_type": "code",
   "execution_count": 2,
   "metadata": {},
   "outputs": [
    {
     "name": "stdout",
     "output_type": "stream",
     "text": [
      "Python implementation: CPython\n",
      "Python version       : 3.10.5\n",
      "IPython version      : 8.14.0\n",
      "\n",
      "gym: 0.26.2\n",
      "\n"
     ]
    }
   ],
   "source": [
    "%load_ext watermark\n",
    "%watermark -v -p gym"
   ]
  },
  {
   "cell_type": "code",
   "execution_count": 3,
   "metadata": {},
   "outputs": [
    {
     "ename": "NameError",
     "evalue": "name 'policy' is not defined",
     "output_type": "error",
     "traceback": [
      "\u001b[1;31m---------------------------------------------------------------------------\u001b[0m",
      "\u001b[1;31mNameError\u001b[0m                                 Traceback (most recent call last)",
      "\u001b[1;32mc:\\Users\\Eliezer Junior\\Git\\MBA\\3DTS-ReinforcementLearning\\Aula1\\exemplo_1.ipynb Cell 5\u001b[0m line \u001b[0;36m5\n\u001b[0;32m      <a href='vscode-notebook-cell:/c%3A/Users/Eliezer%20Junior/Git/MBA/3DTS-ReinforcementLearning/Aula1/exemplo_1.ipynb#W5sZmlsZQ%3D%3D?line=2'>3</a>\u001b[0m observation, info \u001b[39m=\u001b[39m env\u001b[39m.\u001b[39mreset(seed\u001b[39m=\u001b[39m\u001b[39m42\u001b[39m)\n\u001b[0;32m      <a href='vscode-notebook-cell:/c%3A/Users/Eliezer%20Junior/Git/MBA/3DTS-ReinforcementLearning/Aula1/exemplo_1.ipynb#W5sZmlsZQ%3D%3D?line=3'>4</a>\u001b[0m \u001b[39mfor\u001b[39;00m _ \u001b[39min\u001b[39;00m \u001b[39mrange\u001b[39m(\u001b[39m1000\u001b[39m):\n\u001b[1;32m----> <a href='vscode-notebook-cell:/c%3A/Users/Eliezer%20Junior/Git/MBA/3DTS-ReinforcementLearning/Aula1/exemplo_1.ipynb#W5sZmlsZQ%3D%3D?line=4'>5</a>\u001b[0m    action \u001b[39m=\u001b[39m policy(observation)  \u001b[39m# User-defined policy function\u001b[39;00m\n\u001b[0;32m      <a href='vscode-notebook-cell:/c%3A/Users/Eliezer%20Junior/Git/MBA/3DTS-ReinforcementLearning/Aula1/exemplo_1.ipynb#W5sZmlsZQ%3D%3D?line=5'>6</a>\u001b[0m    observation, reward, terminated, truncated, info \u001b[39m=\u001b[39m env\u001b[39m.\u001b[39mstep(action)\n\u001b[0;32m      <a href='vscode-notebook-cell:/c%3A/Users/Eliezer%20Junior/Git/MBA/3DTS-ReinforcementLearning/Aula1/exemplo_1.ipynb#W5sZmlsZQ%3D%3D?line=7'>8</a>\u001b[0m    \u001b[39mif\u001b[39;00m terminated \u001b[39mor\u001b[39;00m truncated:\n",
      "\u001b[1;31mNameError\u001b[0m: name 'policy' is not defined"
     ]
    }
   ],
   "source": [
    "import gym\n",
    "env = gym.make(\"LunarLander-v2\", render_mode=\"human\")\n",
    "observation, info = env.reset(seed=42)\n",
    "for _ in range(1000):\n",
    "   action = policy(observation)  # User-defined policy function\n",
    "   observation, reward, terminated, truncated, info = env.step(action)\n",
    "\n",
    "   if terminated or truncated:\n",
    "      observation, info = env.reset()\n",
    "env.close()"
   ]
  },
  {
   "cell_type": "markdown",
   "metadata": {},
   "source": [
    "A função reset() é usada para redefinir o ambiente para o estado inicial. Passamos a semente como argumento para garantir a reprodutibilidade.\n",
    "\n",
    "Agora, vamos executar um loop para interagir com o ambiente e realizar ações aleatórias. \n",
    "\n",
    "Dentro do loop, estamos executando as seguintes ações:\n",
    "\n",
    "* env.action_space.sample() gera uma ação aleatória do espaço de ação do ambiente.\n",
    "* env.step() executa a ação no ambiente e retorna a observação atualizada, recompensa, um sinalizador de término, um sinalizador de truncamento e informações adicionais.\n",
    "\n",
    "Se o ambiente for encerrado (terminated ou truncated forem verdadeiros), redefinimos o ambiente para o estado inicial usando env.reset()."
   ]
  },
  {
   "cell_type": "code",
   "execution_count": null,
   "metadata": {},
   "outputs": [],
   "source": []
  },
  {
   "cell_type": "markdown",
   "metadata": {},
   "source": [
    "Por fim, fechamos o ambiente:"
   ]
  },
  {
   "cell_type": "code",
   "execution_count": null,
   "metadata": {},
   "outputs": [],
   "source": []
  }
 ],
 "metadata": {
  "kernelspec": {
   "display_name": "env_AR",
   "language": "python",
   "name": "python3"
  },
  "language_info": {
   "codemirror_mode": {
    "name": "ipython",
    "version": 3
   },
   "file_extension": ".py",
   "mimetype": "text/x-python",
   "name": "python",
   "nbconvert_exporter": "python",
   "pygments_lexer": "ipython3",
   "version": "3.11.5"
  },
  "orig_nbformat": 4
 },
 "nbformat": 4,
 "nbformat_minor": 2
}
