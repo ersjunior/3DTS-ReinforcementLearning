{
 "cells": [
  {
   "cell_type": "markdown",
   "metadata": {},
   "source": [
    "# Aprendizado por Reforço - Exemplo 1\n",
    "\n",
    "Primeiro, importe as bibliotecas necessárias e crie o ambiente \"LunarLander-v2\" com renderização visual:"
   ]
  },
  {
   "cell_type": "code",
   "execution_count": 2,
   "metadata": {},
   "outputs": [
    {
     "data": {
      "text/plain": [
       "[42]"
      ]
     },
     "execution_count": 2,
     "metadata": {},
     "output_type": "execute_result"
    }
   ],
   "source": []
  },
  {
   "cell_type": "markdown",
   "metadata": {},
   "source": [
    "Aqui, usamos a biblioteca Gym para criar o ambiente \"LunarLander-v2\" e definimos o modo de renderização como \"human\", o que nos permite visualizar a simulação interativamente. Além disso, definimos a semente para o espaço de ação para garantir a reprodutibilidade dos resultados.\n",
    "\n",
    "Agora, inicialize a observação inicial e outras variáveis necessárias:"
   ]
  },
  {
   "cell_type": "code",
   "execution_count": 3,
   "metadata": {},
   "outputs": [
    {
     "name": "stdout",
     "output_type": "stream",
     "text": [
      "Python implementation: CPython\n",
      "Python version       : 3.9.11\n",
      "IPython version      : 8.14.0\n",
      "\n",
      "gym: 0.26.2\n",
      "\n"
     ]
    }
   ],
   "source": [
    "%load_ext watermark\n",
    "%watermark -v -p gym"
   ]
  },
  {
   "cell_type": "code",
   "execution_count": 4,
   "metadata": {},
   "outputs": [],
   "source": []
  },
  {
   "cell_type": "markdown",
   "metadata": {},
   "source": [
    "A função reset() é usada para redefinir o ambiente para o estado inicial. Passamos a semente como argumento para garantir a reprodutibilidade.\n",
    "\n",
    "Agora, vamos executar um loop para interagir com o ambiente e realizar ações aleatórias. \n",
    "\n",
    "Dentro do loop, estamos executando as seguintes ações:\n",
    "\n",
    "* env.action_space.sample() gera uma ação aleatória do espaço de ação do ambiente.\n",
    "* env.step() executa a ação no ambiente e retorna a observação atualizada, recompensa, um sinalizador de término, um sinalizador de truncamento e informações adicionais.\n",
    "\n",
    "Se o ambiente for encerrado (terminated ou truncated forem verdadeiros), redefinimos o ambiente para o estado inicial usando env.reset()."
   ]
  },
  {
   "cell_type": "code",
   "execution_count": 5,
   "metadata": {},
   "outputs": [
    {
     "name": "stderr",
     "output_type": "stream",
     "text": [
      "e:\\FIAP\\Aprendizado_Reforco\\Programas\\env_AR\\lib\\site-packages\\gym\\utils\\passive_env_checker.py:233: DeprecationWarning: `np.bool8` is a deprecated alias for `np.bool_`.  (Deprecated NumPy 1.24)\n",
      "  if not isinstance(terminated, (bool, np.bool8)):\n"
     ]
    },
    {
     "name": "stdout",
     "output_type": "stream",
     "text": [
      "Observation: [ 0.00459394  1.424763    0.23233262  0.2947628  -0.00525882 -0.05208295\n",
      "  0.          0.        ]\n",
      "Reward: 1.1449803922348565\n",
      "Terminated: False\n",
      "Truncated: False\n",
      "Info: {}\n",
      "Pressione a tecla 'Esc' para continuar...\n"
     ]
    },
    {
     "name": "stdout",
     "output_type": "stream",
     "text": [
      "Observation: [ 0.00697489  1.4308035   0.2428536   0.26844853 -0.00996893 -0.09421118\n",
      "  0.          0.        ]\n",
      "Reward: 0.2259699115473677\n",
      "Terminated: False\n",
      "Truncated: False\n",
      "Info: {}\n",
      "Pressione a tecla 'Esc' para continuar...\n",
      "Observation: [ 0.00931158  1.4375646   0.23868391  0.30044597 -0.01493233 -0.09927683\n",
      "  0.          0.        ]\n",
      "Reward: -3.6455437355172817\n",
      "Terminated: False\n",
      "Truncated: False\n",
      "Info: {}\n",
      "Pressione a tecla 'Esc' para continuar...\n",
      "Observation: [ 0.01158533  1.4437385   0.2307829   0.2743505  -0.01830477 -0.06745521\n",
      "  0.          0.        ]\n",
      "Reward: 1.5343877734264038\n",
      "Terminated: False\n",
      "Truncated: False\n",
      "Info: {}\n",
      "Pressione a tecla 'Esc' para continuar...\n",
      "Observation: [ 0.01376848  1.4493215   0.21942608  0.24812508 -0.01939567 -0.02181998\n",
      "  0.          0.        ]\n",
      "Reward: 2.0285537692519724\n",
      "Terminated: False\n",
      "Truncated: False\n",
      "Info: {}\n",
      "Pressione a tecla 'Esc' para continuar...\n",
      "Observation: [ 0.01601248  1.4543021   0.22704735  0.22132237 -0.02201527 -0.05239668\n",
      "  0.          0.        ]\n",
      "Reward: 0.623688902787195\n",
      "Terminated: False\n",
      "Truncated: False\n",
      "Info: {}\n",
      "Pressione a tecla 'Esc' para continuar...\n",
      "Observation: [ 0.01825657  1.4586827   0.22705588  0.19465348 -0.02463329 -0.0523653\n",
      "  0.          0.        ]\n",
      "Reward: 1.097386419442529\n",
      "Terminated: False\n",
      "Truncated: False\n",
      "Info: {}\n",
      "Pressione a tecla 'Esc' para continuar...\n",
      "Observation: [ 0.02069292  1.463762    0.24546167  0.22571798 -0.02643831 -0.03610369\n",
      "  0.          0.        ]\n",
      "Reward: -4.431057261680723\n",
      "Terminated: False\n",
      "Truncated: False\n",
      "Info: {}\n",
      "Pressione a tecla 'Esc' para continuar...\n",
      "Observation: [ 0.02312927  1.4682411   0.24546632  0.19903876 -0.02824367 -0.03611065\n",
      "  0.          0.        ]\n",
      "Reward: 1.1123974512813675\n",
      "Terminated: False\n",
      "Truncated: False\n",
      "Info: {}\n",
      "Pressione a tecla 'Esc' para continuar...\n",
      "Observation: [ 0.02556572  1.4721203   0.24547184  0.17237493 -0.03004846 -0.03609893\n",
      "  0.          0.        ]\n",
      "Reward: 1.0349296758896003\n",
      "Terminated: False\n",
      "Truncated: False\n",
      "Info: {}\n",
      "Pressione a tecla 'Esc' para continuar...\n",
      "Observation: [ 0.02800655  1.4760603   0.24595575  0.17507024 -0.0318948  -0.03693045\n",
      "  0.          0.        ]\n",
      "Reward: -1.078106843835019\n",
      "Terminated: False\n",
      "Truncated: False\n",
      "Info: {}\n",
      "Pressione a tecla 'Esc' para continuar...\n",
      "Observation: [ 0.03053293  1.4793894   0.25667205  0.14787418 -0.03589294 -0.07997016\n",
      "  0.          0.        ]\n",
      "Reward: -0.1998133207818273\n",
      "Terminated: False\n",
      "Truncated: False\n",
      "Info: {}\n",
      "Pressione a tecla 'Esc' para continuar...\n",
      "Observation: [ 0.03320437  1.4830947   0.27059448  0.16458248 -0.03931619 -0.06847115\n",
      "  0.          0.        ]\n",
      "Reward: -3.0678877643400027\n",
      "Terminated: False\n",
      "Truncated: False\n",
      "Info: {}\n",
      "Pressione a tecla 'Esc' para continuar...\n",
      "Observation: [ 0.03594732  1.4862003   0.27957746  0.137885   -0.04453723 -0.10443008\n",
      "  0.          0.        ]\n",
      "Reward: -0.3704500886518065\n",
      "Terminated: False\n",
      "Truncated: False\n",
      "Info: {}\n",
      "Pressione a tecla 'Esc' para continuar...\n",
      "Observation: [ 0.03884315  1.4900947   0.2943245   0.17293791 -0.0492329  -0.09392205\n",
      "  0.          0.        ]\n",
      "Reward: -4.130262163865853\n",
      "Terminated: False\n",
      "Truncated: False\n",
      "Info: {}\n",
      "Pressione a tecla 'Esc' para continuar...\n",
      "Observation: [ 0.04180956  1.4933813   0.30317187  0.14584465 -0.05570465 -0.12944658\n",
      "  0.          0.        ]\n",
      "Reward: -0.5193979260910442\n",
      "Terminated: False\n",
      "Truncated: False\n",
      "Info: {}\n",
      "Pressione a tecla 'Esc' para continuar...\n",
      "Observation: [ 0.0446909   1.4973179   0.29529136  0.17467245 -0.06279045 -0.14172877\n",
      "  0.          0.        ]\n",
      "Reward: -2.0761200908225304\n",
      "Terminated: False\n",
      "Truncated: False\n",
      "Info: {}\n",
      "Pressione a tecla 'Esc' para continuar...\n",
      "Observation: [ 0.04757252  1.5006549   0.29531053  0.14798935 -0.06987495 -0.14170277\n",
      "  0.          0.        ]\n",
      "Reward: 0.22599317363372506\n",
      "Terminated: False\n",
      "Truncated: False\n",
      "Info: {}\n",
      "Pressione a tecla 'Esc' para continuar...\n",
      "Observation: [ 0.05053997  1.5033906   0.3060652   0.12112895 -0.07910921 -0.18470214\n",
      "  0.          0.        ]\n",
      "Reward: -1.1211406800225336\n",
      "Terminated: False\n",
      "Truncated: False\n",
      "Info: {}\n",
      "Pressione a tecla 'Esc' para continuar...\n",
      "Observation: [ 0.05344038  1.5055401   0.2976206   0.09512128 -0.08662942 -0.15041764\n",
      "  0.          0.        ]\n",
      "Reward: 0.6642484340709995\n",
      "Terminated: False\n",
      "Truncated: False\n",
      "Info: {}\n",
      "Pressione a tecla 'Esc' para continuar...\n"
     ]
    },
    {
     "ename": "",
     "evalue": "",
     "output_type": "error",
     "traceback": [
      "\u001b[1;31mThe Kernel crashed while executing code in the the current cell or a previous cell. Please review the code in the cell(s) to identify a possible cause of the failure. Click <a href='https://aka.ms/vscodeJupyterKernelCrash'>here</a> for more info. View Jupyter <a href='command:jupyter.viewOutput'>log</a> for further details."
     ]
    }
   ],
   "source": []
  },
  {
   "cell_type": "markdown",
   "metadata": {},
   "source": [
    "Por fim, fechamos o ambiente:"
   ]
  },
  {
   "cell_type": "code",
   "execution_count": 49,
   "metadata": {},
   "outputs": [],
   "source": []
  }
 ],
 "metadata": {
  "kernelspec": {
   "display_name": "env_AR",
   "language": "python",
   "name": "python3"
  },
  "language_info": {
   "codemirror_mode": {
    "name": "ipython",
    "version": 3
   },
   "file_extension": ".py",
   "mimetype": "text/x-python",
   "name": "python",
   "nbconvert_exporter": "python",
   "pygments_lexer": "ipython3",
   "version": "3.9.11"
  },
  "orig_nbformat": 4
 },
 "nbformat": 4,
 "nbformat_minor": 2
}
