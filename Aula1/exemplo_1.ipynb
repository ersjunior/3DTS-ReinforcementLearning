{
 "cells": [
  {
   "cell_type": "markdown",
   "metadata": {},
   "source": [
    "# Aprendizado por Reforço - Exemplo 1\n",
    "\n",
    "Primeiro, importe as bibliotecas necessárias e crie o ambiente \"LunarLander-v2\" com renderização visual:"
   ]
  },
  {
   "cell_type": "code",
   "execution_count": null,
   "metadata": {},
   "outputs": [],
   "source": [
    "import gym\n",
    "\n",
    "env = gym.make(\"LunarLander-v2\", render_mode=\"human\")\n",
    "env.action_space.seed(42)"
   ]
  },
  {
   "cell_type": "markdown",
   "metadata": {},
   "source": [
    "Aqui, usamos a biblioteca Gym para criar o ambiente \"LunarLander-v2\" e definimos o modo de renderização como \"human\", o que nos permite visualizar a simulação interativamente. Além disso, definimos a semente para o espaço de ação para garantir a reprodutibilidade dos resultados.\n",
    "\n",
    "Agora, inicialize a observação inicial e outras variáveis necessárias:"
   ]
  },
  {
   "cell_type": "code",
   "execution_count": 1,
   "metadata": {},
   "outputs": [
    {
     "name": "stdout",
     "output_type": "stream",
     "text": [
      "Python implementation: CPython\n",
      "Python version       : 3.11.5\n",
      "IPython version      : 8.15.0\n",
      "\n",
      "gym: 0.26.2\n",
      "\n"
     ]
    }
   ],
   "source": [
    "%load_ext watermark\n",
    "%watermark -v -p gym"
   ]
  },
  {
   "cell_type": "code",
   "execution_count": null,
   "metadata": {},
   "outputs": [],
   "source": [
    "import gym\n",
    "env = gym.make(\"LunarLander-v2\", render_mode=\"human\")\n",
    "observation, info = env.reset(seed=42)\n",
    "for _ in range(1000):\n",
    "   action = policy(observation)  # User-defined policy function\n",
    "   observation, reward, terminated, truncated, info = env.step(action)\n",
    "\n",
    "   if terminated or truncated:\n",
    "      observation, info = env.reset()\n",
    "env.close()"
   ]
  },
  {
   "cell_type": "markdown",
   "metadata": {},
   "source": [
    "A função reset() é usada para redefinir o ambiente para o estado inicial. Passamos a semente como argumento para garantir a reprodutibilidade.\n",
    "\n",
    "Agora, vamos executar um loop para interagir com o ambiente e realizar ações aleatórias. \n",
    "\n",
    "Dentro do loop, estamos executando as seguintes ações:\n",
    "\n",
    "* env.action_space.sample() gera uma ação aleatória do espaço de ação do ambiente.\n",
    "* env.step() executa a ação no ambiente e retorna a observação atualizada, recompensa, um sinalizador de término, um sinalizador de truncamento e informações adicionais.\n",
    "\n",
    "Se o ambiente for encerrado (terminated ou truncated forem verdadeiros), redefinimos o ambiente para o estado inicial usando env.reset()."
   ]
  },
  {
   "cell_type": "code",
   "execution_count": null,
   "metadata": {},
   "outputs": [],
   "source": []
  },
  {
   "cell_type": "markdown",
   "metadata": {},
   "source": [
    "Por fim, fechamos o ambiente:"
   ]
  },
  {
   "cell_type": "code",
   "execution_count": null,
   "metadata": {},
   "outputs": [],
   "source": []
  }
 ],
 "metadata": {
  "kernelspec": {
   "display_name": "env_AR",
   "language": "python",
   "name": "python3"
  },
  "language_info": {
   "codemirror_mode": {
    "name": "ipython",
    "version": 3
   },
   "file_extension": ".py",
   "mimetype": "text/x-python",
   "name": "python",
   "nbconvert_exporter": "python",
   "pygments_lexer": "ipython3",
   "version": "3.11.5"
  },
  "orig_nbformat": 4
 },
 "nbformat": 4,
 "nbformat_minor": 2
}
