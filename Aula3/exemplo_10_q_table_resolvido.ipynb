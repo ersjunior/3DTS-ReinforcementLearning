{
 "cells": [
  {
   "cell_type": "markdown",
   "metadata": {},
   "source": [
    "# Treinamento de Agente em Labirinto com Aprendizado por Reforço\n",
    "\n",
    "Neste código, um agente é treinado para navegar por um labirinto usando aprendizado por reforço. O labirinto é representado como uma grade e o agente pode executar quatro ações possíveis: \n",
    "* mover para cima, mover para baixo, mover para a esquerda e mover para a direita. \n",
    "\n",
    "O objetivo do agente é aprender a política ótima que o guia do estado inicial ao estado objetivo, maximizando a recompensa acumulada."
   ]
  },
  {
   "cell_type": "markdown",
   "metadata": {},
   "source": [
    "## Configurações iniciais\n",
    "\n",
    "Inicializar as configurações iniciais do ambiente do labirinto, como o tamanho do labirinto, o número de ações possíveis, a taxa de aprendizado, o fator de desconto e o número de episódios de treinamento. Além disso, inicializar uma matriz chamada q_table que será usada para armazenar os valores da função Q."
   ]
  },
  {
   "cell_type": "code",
   "execution_count": 1,
   "metadata": {},
   "outputs": [],
   "source": [
    "import cv2\n",
    "import numpy as np\n",
    "import random\n",
    "import matplotlib.pyplot as plt\n",
    "\n",
    "# Tamanho do labirinto\n",
    "GRID_SIZE = 10\n",
    "\n",
    "# Número de ações possíveis (cima, baixo, esquerda, direita)\n",
    "NUM_ACTIONS = 4\n",
    "\n",
    "# Taxa de aprendizado\n",
    "LEARNING_RATE = 0.1\n",
    "\n",
    "# Fator de desconto\n",
    "DISCOUNT_FACTOR = 0.9\n",
    "\n",
    "# Número de episódios de treinamento\n",
    "NUM_EPISODES = 25\n",
    "\n",
    "# Inicialização da tabela-Q\n",
    "q_table = np.zeros((GRID_SIZE, GRID_SIZE, NUM_ACTIONS))\n"
   ]
  },
  {
   "cell_type": "markdown",
   "metadata": {},
   "source": [
    "## Definição de funções \n",
    "\n",
    "Definir duas funções: \n",
    "\n",
    "* `choose_action`: que escolhe uma ação com base na estratégia epsilon-greedy.\n",
    "* `run_episode`: que executa um episódio de treinamento do agente no labirinto. \n",
    "\n",
    "A função choose_action decide se o agente deve explorar (escolhendo uma ação aleatória) ou explorar (escolhendo a ação com maior valor Q) com base no valor de epsilon. A função run_episode simula o movimento do agente no labirinto, atualiza a tabela Q com base na recompensa e na equação de Bellman."
   ]
  },
  {
   "cell_type": "code",
   "execution_count": 2,
   "metadata": {},
   "outputs": [],
   "source": [
    "# Função para escolher uma ação epsilon-greedy\n",
    "def choose_action(state, epsilon):\n",
    "    if random.uniform(0, 1) < epsilon:\n",
    "        return random.randint(0, NUM_ACTIONS - 1)  # Escolhe uma ação aleatória\n",
    "    else:\n",
    "        return np.argmax(q_table[state[0], state[1]])\n",
    "\n",
    "# Função para executar um episódio\n",
    "def run_episode():\n",
    "    state = [0, 0]  # Estado inicial\n",
    "    goal = [GRID_SIZE - 1, GRID_SIZE - 1]  # Objetivo\n",
    "    epsilon = 0.1  # Valor de epsilon para exploração\n",
    "\n",
    "    while state != goal:\n",
    "        action = choose_action(state, epsilon)\n",
    "        new_state = state.copy()\n",
    "\n",
    "        # Simulação de movimento do agente\n",
    "        if action == 0:  # Mover para cima\n",
    "            new_state[0] = max(0, state[0] - 1)\n",
    "        elif action == 1:  # Mover para baixo\n",
    "            new_state[0] = min(GRID_SIZE - 1, state[0] + 1)\n",
    "        elif action == 2:  # Mover para a esquerda\n",
    "            new_state[1] = max(0, state[1] - 1)\n",
    "        elif action == 3:  # Mover para a direita\n",
    "            new_state[1] = min(GRID_SIZE - 1, state[1] + 1)\n",
    "\n",
    "        reward = -1  # Recompensa por movimento\n",
    "\n",
    "        # Atualização da tabela-Q usando a equação de Bellman\n",
    "        q_table[state[0], state[1], action] = (1 - LEARNING_RATE) * q_table[state[0], state[1], action] + LEARNING_RATE * (reward + DISCOUNT_FACTOR * np.max(q_table[new_state[0], new_state[1]]))\n",
    "\n",
    "        state = new_state\n"
   ]
  },
  {
   "cell_type": "markdown",
   "metadata": {},
   "source": [
    "## Treinamento do agente\n",
    "\n",
    "Esta célula treina o agente executando um número de episódios especificado por NUM_EPISODES. Cada episódio é executado chamando a função run_episode."
   ]
  },
  {
   "cell_type": "code",
   "execution_count": 3,
   "metadata": {},
   "outputs": [],
   "source": [
    "# Treinamento do agente\n",
    "for episode in range(NUM_EPISODES):\n",
    "    run_episode()\n"
   ]
  },
  {
   "cell_type": "markdown",
   "metadata": {},
   "source": [
    "## Exibição da tabela-Q após o treinamento\n",
    "\n",
    "Esta célula exibe a tabela Q após o treinamento. A tabela Q contém os valores estimados para a função Q após o treinamento."
   ]
  },
  {
   "cell_type": "code",
   "execution_count": 4,
   "metadata": {},
   "outputs": [
    {
     "name": "stdout",
     "output_type": "stream",
     "text": [
      "Tabela-Q após o treinamento:\n",
      "[[[-2.52622635 -2.55544068 -2.59271082 -2.57455812]\n",
      "  [-2.37217766 -2.34361647 -2.34714933 -2.39335545]\n",
      "  [-2.29149464 -2.30203814 -2.24817932 -2.25942923]\n",
      "  [-2.13129531 -2.16235849 -2.20131368 -2.14665997]\n",
      "  [-1.97981313 -2.0319107  -2.08305661 -1.95726455]\n",
      "  [-1.90272132 -1.93505784 -1.90451127 -1.91311552]\n",
      "  [-1.79924207 -1.86648185 -1.868155   -1.78901765]\n",
      "  [-1.73816203 -1.78762582 -1.78324968 -1.79432984]\n",
      "  [-1.73768678 -1.78251458 -1.75018017 -1.71868315]\n",
      "  [-1.72772226 -1.70991331 -1.73933617 -1.73831376]]\n",
      "\n",
      " [[-2.39572856 -2.33331541 -2.37654853 -2.37181353]\n",
      "  [-2.25226197 -2.27055935 -2.28866427 -2.28978665]\n",
      "  [-2.20971627 -2.20760682 -2.19156625 -2.22249242]\n",
      "  [-2.15846146 -2.09466443 -2.09739811 -2.16151737]\n",
      "  [-1.99151466 -1.99308045 -2.06446638 -2.04441665]\n",
      "  [-1.9056669  -1.90873888 -1.97809375 -1.84169678]\n",
      "  [-1.80976257 -1.84819235 -1.8020887  -1.85948595]\n",
      "  [-1.80395142 -1.80440494 -1.79658686 -1.7662506 ]\n",
      "  [-1.72170721 -1.74762663 -1.78389966 -1.72655418]\n",
      "  [-1.72575924 -1.68571058 -1.7631241  -1.73831376]]\n",
      "\n",
      " [[-2.23510346 -2.19352747 -2.14246639 -2.16143339]\n",
      "  [-2.20471077 -2.13461898 -2.11893541 -2.13207017]\n",
      "  [-2.13114194 -2.09737532 -2.06627097 -2.11432006]\n",
      "  [-2.06861049 -2.04761761 -2.05395598 -1.98610603]\n",
      "  [-1.92617383 -1.90587656 -1.98472126 -1.92428343]\n",
      "  [-1.84090586 -1.84531327 -1.88556065 -1.90924997]\n",
      "  [-1.83470389 -1.83412193 -1.81456017 -1.77945447]\n",
      "  [-1.76183778 -1.76576143 -1.71775417 -1.7131007 ]\n",
      "  [-1.6613281  -1.68180914 -1.69387379 -1.72230746]\n",
      "  [-1.72248501 -1.66904755 -1.68830924 -1.65410816]]\n",
      "\n",
      " [[-2.11248236 -2.08684486 -2.06385716 -2.02391179]\n",
      "  [-2.09664439 -1.95609818 -2.00604012 -2.01121972]\n",
      "  [-2.04087879 -1.95996725 -1.97786376 -1.99075299]\n",
      "  [-1.93902579 -1.96547641 -1.96780175 -1.90751713]\n",
      "  [-1.85159919 -1.8177064  -1.88960408 -1.85576912]\n",
      "  [-1.85249335 -1.74587089 -1.82515422 -1.78727995]\n",
      "  [-1.77864271 -1.77110707 -1.73125872 -1.75354999]\n",
      "  [-1.67003877 -1.72951338 -1.70980701 -1.67993243]\n",
      "  [-1.61096596 -1.64862282 -1.68457841 -1.61625205]\n",
      "  [-1.66200573 -1.65394486 -1.61652539 -1.6537365 ]]\n",
      "\n",
      " [[-2.00701172 -1.93791348 -1.9836941  -1.9336144 ]\n",
      "  [-1.89522428 -1.87642794 -1.9120099  -1.92786083]\n",
      "  [-1.8882793  -1.89631716 -1.92029329 -1.93998384]\n",
      "  [-1.86427395 -1.90546576 -1.88380096 -1.85718575]\n",
      "  [-1.78356487 -1.75539448 -1.80893399 -1.78466654]\n",
      "  [-1.77193009 -1.66556373 -1.73144185 -1.68729359]\n",
      "  [-1.69979645 -1.66294108 -1.63693856 -1.70051112]\n",
      "  [-1.59231285 -1.65859594 -1.626711   -1.68886051]\n",
      "  [-1.59145407 -1.6222949  -1.59958546 -1.54939622]\n",
      "  [-1.63582084 -1.55619075 -1.50448676 -1.56383098]]\n",
      "\n",
      " [[-1.8595848  -1.81668038 -1.81761807 -1.86781692]\n",
      "  [-1.81512072 -1.84762089 -1.81269444 -1.83845105]\n",
      "  [-1.88372285 -1.8515797  -1.80375103 -1.81797266]\n",
      "  [-1.79174644 -1.75465749 -1.81218668 -1.80729809]\n",
      "  [-1.69780434 -1.69273535 -1.70999792 -1.73862848]\n",
      "  [-1.67396189 -1.68796969 -1.64765656 -1.66308839]\n",
      "  [-1.60728283 -1.55939703 -1.63610885 -1.59578731]\n",
      "  [-1.53676654 -1.53466492 -1.54489566 -1.59460239]\n",
      "  [-1.53957507 -1.54157392 -1.53149537 -1.52025501]\n",
      "  [-1.47745569 -1.43742699 -1.5023563  -1.47369022]]\n",
      "\n",
      " [[-1.76044435 -1.76400669 -1.71852201 -1.81045993]\n",
      "  [-1.78222789 -1.77618226 -1.84229965 -1.838193  ]\n",
      "  [-1.80464333 -1.80430955 -1.83745451 -1.76066271]\n",
      "  [-1.72272302 -1.78248685 -1.75736906 -1.72803579]\n",
      "  [-1.62406985 -1.66085902 -1.69189114 -1.6833408 ]\n",
      "  [-1.63849194 -1.66927139 -1.61076774 -1.59724839]\n",
      "  [-1.53076496 -1.50527936 -1.52541202 -1.44987288]\n",
      "  [-1.45646567 -1.38488062 -1.36917123 -1.44098746]\n",
      "  [-1.38995358 -1.41702656 -1.35378448 -1.35142443]\n",
      "  [-1.31115789 -1.31158985 -1.34589978 -1.2964249 ]]\n",
      "\n",
      " [[-1.67652077 -1.7575616  -1.71535761 -1.81812369]\n",
      "  [-1.76507116 -1.77181079 -1.76382605 -1.80795831]\n",
      "  [-1.78248593 -1.76063498 -1.74590068 -1.78442883]\n",
      "  [-1.76247973 -1.75580387 -1.71940866 -1.75554543]\n",
      "  [-1.60470115 -1.57523919 -1.77353214 -1.60772611]\n",
      "  [-1.61378554 -1.53010863 -1.55990809 -1.57973795]\n",
      "  [-1.45366534 -1.48183335 -1.45805607 -1.41288545]\n",
      "  [-1.30052739 -1.28992375 -1.26806593 -1.31750731]\n",
      "  [-1.17256477 -1.17327917 -1.19552639 -1.24281686]\n",
      "  [-1.15952081 -1.11608042 -1.07751424 -1.13147002]]\n",
      "\n",
      " [[-1.73084214 -1.6913555  -1.73831376 -1.8092653 ]\n",
      "  [-1.76199809 -1.68472641 -1.75043176 -1.79872734]\n",
      "  [-1.75507984 -1.68654704 -1.68694963 -1.71302625]\n",
      "  [-1.68529334 -1.62200988 -1.61161304 -1.65202537]\n",
      "  [-1.56527328 -1.52754538 -1.53789847 -1.5644388 ]\n",
      "  [-1.51905072 -1.43009883 -1.44609086 -1.5020012 ]\n",
      "  [-1.43773535 -1.44161875 -1.39204205 -1.45010046]\n",
      "  [-1.19209583 -1.23371121 -1.33024197 -1.18057295]\n",
      "  [-0.92681375 -0.9065065  -1.05731344 -1.00205598]\n",
      "  [-0.74981143 -0.74581342 -0.77111718 -0.77255306]]\n",
      "\n",
      " [[-1.72071041 -1.64959806 -1.65486239 -1.69550727]\n",
      "  [-1.74155224 -1.65486239 -1.66911976 -1.65726704]\n",
      "  [-1.66231093 -1.65486239 -1.67597432 -1.639225  ]\n",
      "  [-1.56443329 -1.57056807 -1.62317881 -1.59392765]\n",
      "  [-1.52059977 -1.48177968 -1.50998601 -1.49874114]\n",
      "  [-1.4074795  -1.39941645 -1.38987854 -1.4383207 ]\n",
      "  [-1.43527829 -1.38269266 -1.31229878 -1.31118829]\n",
      "  [-1.08516549 -1.13615128 -1.16107392 -1.11494225]\n",
      "  [-0.69370224 -0.76897651 -0.80502101 -0.71757046]\n",
      "  [ 0.          0.          0.          0.        ]]]\n"
     ]
    }
   ],
   "source": [
    "# Mostrar a tabela-Q após o treinamento\n",
    "print(\"Tabela-Q após o treinamento:\")\n",
    "print(q_table)\n"
   ]
  },
  {
   "cell_type": "markdown",
   "metadata": {},
   "source": [
    "## Visualização da política aprendida\n",
    "\n",
    "a política aprendida pelo agente é visualizada. A política é obtida encontrando a ação com o maior valor Q para cada estado."
   ]
  },
  {
   "cell_type": "code",
   "execution_count": 5,
   "metadata": {},
   "outputs": [
    {
     "name": "stdout",
     "output_type": "stream",
     "text": [
      "\n",
      "Política aprendida:\n",
      "[[0 1 2 0 3 0 3 0 3 1]\n",
      " [1 0 2 1 0 3 2 3 0 1]\n",
      " [2 2 2 3 1 0 3 3 0 3]\n",
      " [3 1 1 3 1 1 2 0 0 2]\n",
      " [3 1 0 3 1 1 2 0 3 2]\n",
      " [1 2 2 1 1 2 1 1 3 1]\n",
      " [2 1 3 0 0 3 3 2 3 3]\n",
      " [0 2 2 2 1 1 3 2 0 2]\n",
      " [1 1 1 2 1 1 2 3 1 1]\n",
      " [1 1 3 0 1 2 3 0 0 0]]\n"
     ]
    }
   ],
   "source": [
    "# Visualização da política aprendida\n",
    "policy = np.argmax(q_table, axis=2)\n",
    "print(\"\\nPolítica aprendida:\")\n",
    "print(policy)"
   ]
  },
  {
   "cell_type": "markdown",
   "metadata": {},
   "source": [
    "A política aprendida é uma representação das ações que o agente deve tomar em cada estado do labirinto para maximizar a recompensa esperada. Cada elemento da matriz representa um estado no labirinto e contém um valor que indica qual ação o agente deve escolher naquele estado. Os valores são mapeados da seguinte forma:\n",
    "\n",
    "- 0: Mover para cima\n",
    "- 1: Mover para baixo\n",
    "- 2: Mover para a esquerda\n",
    "- 3: Mover para a direita\n",
    "\n",
    "Portanto, a política aprendida mostra as ações recomendadas para cada posição no labirinto. Por exemplo, se você olhar para a célula [0, 0], que é o canto superior esquerdo, o valor 1 indica que o agente deve escolher a ação de \"Mover para baixo\" nesse estado. Da mesma forma, a célula [0, 1] tem um valor de 2, o que significa que o agente deve escolher a ação \"Mover para a esquerda\" no próximo estado.\n"
   ]
  },
  {
   "cell_type": "markdown",
   "metadata": {},
   "source": [
    "## Desenho do labirinto com setas vermelhas representando a política aprendida"
   ]
  },
  {
   "cell_type": "code",
   "execution_count": 6,
   "metadata": {},
   "outputs": [
    {
     "data": {
      "image/png": "[encoded data removed]",
      "text/plain": [
       "<Figure size 640x480 with 1 Axes>"
      ]
     },
     "metadata": {},
     "output_type": "display_data"
    }
   ],
   "source": [
    "# Criar matriz de cores para as setas vermelhas\n",
    "arrow_color = np.zeros((GRID_SIZE, GRID_SIZE, 3), dtype=np.uint8)\n",
    "arrow_color[:, :, 2] = 255  # Define o canal vermelho como 255 (vermelho)\n",
    "\n",
    "# Desenhar o labirinto com as setas vermelhas\n",
    "cell_size = 100\n",
    "maze = np.zeros((GRID_SIZE * cell_size, GRID_SIZE * cell_size, 3), dtype=np.uint8)\n",
    "\n",
    "for i in range(GRID_SIZE):\n",
    "    for j in range(GRID_SIZE):\n",
    "        if policy[i, j] == 0:  # Cima\n",
    "            cv2.arrowedLine(maze, (j * cell_size + cell_size // 2, i * cell_size + cell_size // 2), (j * cell_size + cell_size // 2, i * cell_size + cell_size // 2 - 30), (0, 0, 255), 2)\n",
    "        elif policy[i, j] == 1:  # Baixo\n",
    "            cv2.arrowedLine(maze, (j * cell_size + cell_size // 2, i * cell_size + cell_size // 2), (j * cell_size + cell_size // 2, i * cell_size + cell_size // 2 + 30), (0, 0, 255), 2)\n",
    "        elif policy[i, j] == 2:  # Esquerda\n",
    "            cv2.arrowedLine(maze, (j * cell_size + cell_size // 2, i * cell_size + cell_size // 2), (j * cell_size + cell_size // 2 - 30, i * cell_size + cell_size // 2), (0, 0, 255), 2)\n",
    "        elif policy[i, j] == 3:  # Direita\n",
    "            cv2.arrowedLine(maze, (j * cell_size + cell_size // 2, i * cell_size + cell_size // 2), (j * cell_size + cell_size // 2 + 30, i * cell_size + cell_size // 2), (0, 0, 255), 2)\n",
    "\n",
    "plt.imshow(maze)\n",
    "plt.show()\n"
   ]
  }
 ],
 "metadata": {
  "kernelspec": {
   "display_name": "env_AR",
   "language": "python",
   "name": "python3"
  },
  "language_info": {
   "codemirror_mode": {
    "name": "ipython",
    "version": 3
   },
   "file_extension": ".py",
   "mimetype": "text/x-python",
   "name": "python",
   "nbconvert_exporter": "python",
   "pygments_lexer": "ipython3",
   "version": "3.11.5"
  },
  "orig_nbformat": 4
 },
 "nbformat": 4,
 "nbformat_minor": 2
}
